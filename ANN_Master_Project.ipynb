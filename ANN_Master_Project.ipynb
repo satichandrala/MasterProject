{
  "nbformat": 4,
  "nbformat_minor": 0,
  "metadata": {
    "colab": {
      "name": "ANN_Master_Project",
      "provenance": [],
      "collapsed_sections": [],
      "toc_visible": true,
      "include_colab_link": true
    },
    "kernelspec": {
      "name": "python3",
      "display_name": "Python 3"
    },
    "widgets": {
      "application/vnd.jupyter.widget-state+json": {
        "cdd707dd1dee43a09df6138100eaae02": {
          "model_module": "@jupyter-widgets/controls",
          "model_name": "HBoxModel",
          "state": {
            "_view_name": "HBoxView",
            "_dom_classes": [],
            "_model_name": "HBoxModel",
            "_view_module": "@jupyter-widgets/controls",
            "_model_module_version": "1.5.0",
            "_view_count": null,
            "_view_module_version": "1.5.0",
            "box_style": "",
            "layout": "IPY_MODEL_f39f97b61060419d9102f321be10a7b5",
            "_model_module": "@jupyter-widgets/controls",
            "children": [
              "IPY_MODEL_d0e41611ea564896a46f503ab6d65e61",
              "IPY_MODEL_541c6f81383f4634adb124401e8f3d39",
              "IPY_MODEL_85ddc3dfe2dc44ff9c4c3d20380aee5d"
            ]
          }
        },
        "f39f97b61060419d9102f321be10a7b5": {
          "model_module": "@jupyter-widgets/base",
          "model_name": "LayoutModel",
          "state": {
            "_view_name": "LayoutView",
            "grid_template_rows": null,
            "right": null,
            "justify_content": null,
            "_view_module": "@jupyter-widgets/base",
            "overflow": null,
            "_model_module_version": "1.2.0",
            "_view_count": null,
            "flex_flow": "row wrap",
            "width": "100%",
            "min_width": null,
            "border": null,
            "align_items": null,
            "bottom": null,
            "_model_module": "@jupyter-widgets/base",
            "top": null,
            "grid_column": null,
            "overflow_y": null,
            "overflow_x": null,
            "grid_auto_flow": null,
            "grid_area": null,
            "grid_template_columns": null,
            "flex": null,
            "_model_name": "LayoutModel",
            "justify_items": null,
            "grid_row": null,
            "max_height": null,
            "align_content": null,
            "visibility": null,
            "align_self": null,
            "height": null,
            "min_height": null,
            "padding": null,
            "grid_auto_rows": null,
            "grid_gap": null,
            "max_width": null,
            "order": null,
            "_view_module_version": "1.2.0",
            "grid_template_areas": null,
            "object_position": null,
            "object_fit": null,
            "grid_auto_columns": null,
            "margin": null,
            "display": "inline-flex",
            "left": null
          }
        },
        "d0e41611ea564896a46f503ab6d65e61": {
          "model_module": "@jupyter-widgets/controls",
          "model_name": "HTMLModel",
          "state": {
            "_view_name": "HTMLView",
            "style": "IPY_MODEL_12a513e09df044bcb3d9c04d5d94805c",
            "_dom_classes": [],
            "description": "",
            "_model_name": "HTMLModel",
            "placeholder": "​",
            "_view_module": "@jupyter-widgets/controls",
            "_model_module_version": "1.5.0",
            "value": "Done! Use &#x27;show&#x27; commands to display/save.   ",
            "_view_count": null,
            "_view_module_version": "1.5.0",
            "description_tooltip": null,
            "_model_module": "@jupyter-widgets/controls",
            "layout": "IPY_MODEL_0db4ae69788247a69ea797366cdf32c1"
          }
        },
        "541c6f81383f4634adb124401e8f3d39": {
          "model_module": "@jupyter-widgets/controls",
          "model_name": "FloatProgressModel",
          "state": {
            "_view_name": "ProgressView",
            "style": "IPY_MODEL_7d9adc35bf3947a4a7f0bdc6effb616d",
            "_dom_classes": [],
            "description": "",
            "_model_name": "FloatProgressModel",
            "bar_style": "success",
            "max": 1,
            "_view_module": "@jupyter-widgets/controls",
            "_model_module_version": "1.5.0",
            "value": 1,
            "_view_count": null,
            "_view_module_version": "1.5.0",
            "orientation": "horizontal",
            "min": 0,
            "description_tooltip": null,
            "_model_module": "@jupyter-widgets/controls",
            "layout": "IPY_MODEL_4276fe24fe5c4b63969adf2eacd64f2f"
          }
        },
        "85ddc3dfe2dc44ff9c4c3d20380aee5d": {
          "model_module": "@jupyter-widgets/controls",
          "model_name": "HTMLModel",
          "state": {
            "_view_name": "HTMLView",
            "style": "IPY_MODEL_156e5773ab0e4aa9b93dd7115a3952f5",
            "_dom_classes": [],
            "description": "",
            "_model_name": "HTMLModel",
            "placeholder": "​",
            "_view_module": "@jupyter-widgets/controls",
            "_model_module_version": "1.5.0",
            "value": " [100%]   00:01 -&gt; (00:00 left)",
            "_view_count": null,
            "_view_module_version": "1.5.0",
            "description_tooltip": null,
            "_model_module": "@jupyter-widgets/controls",
            "layout": "IPY_MODEL_cce67f2606524bfdb4559a0b2ac2b851"
          }
        },
        "12a513e09df044bcb3d9c04d5d94805c": {
          "model_module": "@jupyter-widgets/controls",
          "model_name": "DescriptionStyleModel",
          "state": {
            "_view_name": "StyleView",
            "_model_name": "DescriptionStyleModel",
            "description_width": "",
            "_view_module": "@jupyter-widgets/base",
            "_model_module_version": "1.5.0",
            "_view_count": null,
            "_view_module_version": "1.2.0",
            "_model_module": "@jupyter-widgets/controls"
          }
        },
        "0db4ae69788247a69ea797366cdf32c1": {
          "model_module": "@jupyter-widgets/base",
          "model_name": "LayoutModel",
          "state": {
            "_view_name": "LayoutView",
            "grid_template_rows": null,
            "right": null,
            "justify_content": null,
            "_view_module": "@jupyter-widgets/base",
            "overflow": null,
            "_model_module_version": "1.2.0",
            "_view_count": null,
            "flex_flow": null,
            "width": null,
            "min_width": null,
            "border": null,
            "align_items": null,
            "bottom": null,
            "_model_module": "@jupyter-widgets/base",
            "top": null,
            "grid_column": null,
            "overflow_y": null,
            "overflow_x": null,
            "grid_auto_flow": null,
            "grid_area": null,
            "grid_template_columns": null,
            "flex": null,
            "_model_name": "LayoutModel",
            "justify_items": null,
            "grid_row": null,
            "max_height": null,
            "align_content": null,
            "visibility": null,
            "align_self": null,
            "height": null,
            "min_height": null,
            "padding": null,
            "grid_auto_rows": null,
            "grid_gap": null,
            "max_width": null,
            "order": null,
            "_view_module_version": "1.2.0",
            "grid_template_areas": null,
            "object_position": null,
            "object_fit": null,
            "grid_auto_columns": null,
            "margin": null,
            "display": null,
            "left": null
          }
        },
        "7d9adc35bf3947a4a7f0bdc6effb616d": {
          "model_module": "@jupyter-widgets/controls",
          "model_name": "ProgressStyleModel",
          "state": {
            "_view_name": "StyleView",
            "_model_name": "ProgressStyleModel",
            "description_width": "",
            "_view_module": "@jupyter-widgets/base",
            "_model_module_version": "1.5.0",
            "_view_count": null,
            "_view_module_version": "1.2.0",
            "bar_color": null,
            "_model_module": "@jupyter-widgets/controls"
          }
        },
        "4276fe24fe5c4b63969adf2eacd64f2f": {
          "model_module": "@jupyter-widgets/base",
          "model_name": "LayoutModel",
          "state": {
            "_view_name": "LayoutView",
            "grid_template_rows": null,
            "right": null,
            "justify_content": null,
            "_view_module": "@jupyter-widgets/base",
            "overflow": null,
            "_model_module_version": "1.2.0",
            "_view_count": null,
            "flex_flow": null,
            "width": null,
            "min_width": null,
            "border": null,
            "align_items": null,
            "bottom": null,
            "_model_module": "@jupyter-widgets/base",
            "top": null,
            "grid_column": null,
            "overflow_y": null,
            "overflow_x": null,
            "grid_auto_flow": null,
            "grid_area": null,
            "grid_template_columns": null,
            "flex": "2",
            "_model_name": "LayoutModel",
            "justify_items": null,
            "grid_row": null,
            "max_height": null,
            "align_content": null,
            "visibility": null,
            "align_self": null,
            "height": null,
            "min_height": null,
            "padding": null,
            "grid_auto_rows": null,
            "grid_gap": null,
            "max_width": null,
            "order": null,
            "_view_module_version": "1.2.0",
            "grid_template_areas": null,
            "object_position": null,
            "object_fit": null,
            "grid_auto_columns": null,
            "margin": null,
            "display": null,
            "left": null
          }
        },
        "156e5773ab0e4aa9b93dd7115a3952f5": {
          "model_module": "@jupyter-widgets/controls",
          "model_name": "DescriptionStyleModel",
          "state": {
            "_view_name": "StyleView",
            "_model_name": "DescriptionStyleModel",
            "description_width": "",
            "_view_module": "@jupyter-widgets/base",
            "_model_module_version": "1.5.0",
            "_view_count": null,
            "_view_module_version": "1.2.0",
            "_model_module": "@jupyter-widgets/controls"
          }
        },
        "cce67f2606524bfdb4559a0b2ac2b851": {
          "model_module": "@jupyter-widgets/base",
          "model_name": "LayoutModel",
          "state": {
            "_view_name": "LayoutView",
            "grid_template_rows": null,
            "right": null,
            "justify_content": null,
            "_view_module": "@jupyter-widgets/base",
            "overflow": null,
            "_model_module_version": "1.2.0",
            "_view_count": null,
            "flex_flow": null,
            "width": null,
            "min_width": null,
            "border": null,
            "align_items": null,
            "bottom": null,
            "_model_module": "@jupyter-widgets/base",
            "top": null,
            "grid_column": null,
            "overflow_y": null,
            "overflow_x": null,
            "grid_auto_flow": null,
            "grid_area": null,
            "grid_template_columns": null,
            "flex": null,
            "_model_name": "LayoutModel",
            "justify_items": null,
            "grid_row": null,
            "max_height": null,
            "align_content": null,
            "visibility": null,
            "align_self": null,
            "height": null,
            "min_height": null,
            "padding": null,
            "grid_auto_rows": null,
            "grid_gap": null,
            "max_width": null,
            "order": null,
            "_view_module_version": "1.2.0",
            "grid_template_areas": null,
            "object_position": null,
            "object_fit": null,
            "grid_auto_columns": null,
            "margin": null,
            "display": null,
            "left": null
          }
        }
      }
    }
  },
  "cells": [
    {
      "cell_type": "markdown",
      "metadata": {
        "id": "view-in-github",
        "colab_type": "text"
      },
      "source": [
        "<a href=\"https://colab.research.google.com/github/satichandrala/MasterProject/blob/main/ANN_Master_Project.ipynb\" target=\"_parent\"><img src=\"https://colab.research.google.com/assets/colab-badge.svg\" alt=\"Open In Colab\"/></a>"
      ]
    },
    {
      "cell_type": "markdown",
      "metadata": {
        "id": "3cbb7fRy-eyr"
      },
      "source": [
        "# Artificial Neural Network"
      ]
    },
    {
      "cell_type": "markdown",
      "metadata": {
        "id": "8sNDnxE2-pwE"
      },
      "source": [
        "### Importing the libraries"
      ]
    },
    {
      "cell_type": "code",
      "metadata": {
        "id": "JqWF-ATQxoEm"
      },
      "source": [
        "import numpy as np\r\n",
        "import pandas as pd\r\n",
        "import tensorflow as tf\r\n"
      ],
      "execution_count": 1,
      "outputs": []
    },
    {
      "cell_type": "code",
      "metadata": {
        "colab": {
          "base_uri": "https://localhost:8080/",
          "height": 34
        },
        "id": "2I3o5K0vx72v",
        "outputId": "17006cb9-6ca0-4d8a-d571-34769e74ad95"
      },
      "source": [
        "tf.__version__"
      ],
      "execution_count": 2,
      "outputs": [
        {
          "output_type": "execute_result",
          "data": {
            "application/vnd.google.colaboratory.intrinsic+json": {
              "type": "string"
            },
            "text/plain": [
              "'2.4.1'"
            ]
          },
          "metadata": {
            "tags": []
          },
          "execution_count": 2
        }
      ]
    },
    {
      "cell_type": "markdown",
      "metadata": {
        "id": "AG3FQEch-yuA"
      },
      "source": [
        "## Part 1 - Data Preprocessing"
      ]
    },
    {
      "cell_type": "markdown",
      "metadata": {
        "id": "-4zq8Mza_D9O"
      },
      "source": [
        "### Importing the dataset"
      ]
    },
    {
      "cell_type": "code",
      "metadata": {
        "id": "s1PuzhiCoftO"
      },
      "source": [
        ""
      ],
      "execution_count": null,
      "outputs": []
    },
    {
      "cell_type": "code",
      "metadata": {
        "id": "BBOlzxX_yjS8"
      },
      "source": [
        "test = pd.read_excel('LRData.xlsx', header=0)\r\n",
        "X = test.iloc[:, :-1].values\r\n",
        "y = test.iloc[:, -1].values"
      ],
      "execution_count": 8,
      "outputs": []
    },
    {
      "cell_type": "code",
      "metadata": {
        "id": "nFjYgmsKyrty",
        "colab": {
          "base_uri": "https://localhost:8080/",
          "height": 190
        },
        "outputId": "7e25cdbb-37bd-4bf4-b177-1b0f910575a5"
      },
      "source": [
        "test.head()"
      ],
      "execution_count": 10,
      "outputs": [
        {
          "output_type": "execute_result",
          "data": {
            "text/html": [
              "<div>\n",
              "<style scoped>\n",
              "    .dataframe tbody tr th:only-of-type {\n",
              "        vertical-align: middle;\n",
              "    }\n",
              "\n",
              "    .dataframe tbody tr th {\n",
              "        vertical-align: top;\n",
              "    }\n",
              "\n",
              "    .dataframe thead th {\n",
              "        text-align: right;\n",
              "    }\n",
              "</style>\n",
              "<table border=\"1\" class=\"dataframe\">\n",
              "  <thead>\n",
              "    <tr style=\"text-align: right;\">\n",
              "      <th></th>\n",
              "      <th>Area Type</th>\n",
              "      <th>id.1</th>\n",
              "      <th>CCTT_min</th>\n",
              "      <th>CCD_km</th>\n",
              "      <th>TF</th>\n",
              "      <th>TTSC_min</th>\n",
              "      <th>MR_dKm</th>\n",
              "      <th>KG_Si</th>\n",
              "      <th>Pop_Ha</th>\n",
              "      <th>GS_dkm</th>\n",
              "      <th>WBdkm</th>\n",
              "      <th>Prices</th>\n",
              "    </tr>\n",
              "  </thead>\n",
              "  <tbody>\n",
              "    <tr>\n",
              "      <th>0</th>\n",
              "      <td>MD</td>\n",
              "      <td>744</td>\n",
              "      <td>40.036887</td>\n",
              "      <td>38.160618</td>\n",
              "      <td>3</td>\n",
              "      <td>11.284460</td>\n",
              "      <td>4.675</td>\n",
              "      <td>1</td>\n",
              "      <td>218</td>\n",
              "      <td>0.145</td>\n",
              "      <td>0.150</td>\n",
              "      <td>115</td>\n",
              "    </tr>\n",
              "    <tr>\n",
              "      <th>1</th>\n",
              "      <td>MD</td>\n",
              "      <td>736</td>\n",
              "      <td>38.158431</td>\n",
              "      <td>36.488280</td>\n",
              "      <td>2</td>\n",
              "      <td>11.670782</td>\n",
              "      <td>0.415</td>\n",
              "      <td>0</td>\n",
              "      <td>305</td>\n",
              "      <td>0.090</td>\n",
              "      <td>0.249</td>\n",
              "      <td>120</td>\n",
              "    </tr>\n",
              "    <tr>\n",
              "      <th>2</th>\n",
              "      <td>MD</td>\n",
              "      <td>1606</td>\n",
              "      <td>38.981977</td>\n",
              "      <td>39.886531</td>\n",
              "      <td>3</td>\n",
              "      <td>5.828134</td>\n",
              "      <td>8.973</td>\n",
              "      <td>1</td>\n",
              "      <td>991</td>\n",
              "      <td>0.146</td>\n",
              "      <td>0.298</td>\n",
              "      <td>140</td>\n",
              "    </tr>\n",
              "    <tr>\n",
              "      <th>3</th>\n",
              "      <td>MD</td>\n",
              "      <td>1460</td>\n",
              "      <td>35.231935</td>\n",
              "      <td>34.325897</td>\n",
              "      <td>2</td>\n",
              "      <td>5.836629</td>\n",
              "      <td>3.647</td>\n",
              "      <td>0</td>\n",
              "      <td>402</td>\n",
              "      <td>0.121</td>\n",
              "      <td>0.111</td>\n",
              "      <td>145</td>\n",
              "    </tr>\n",
              "    <tr>\n",
              "      <th>4</th>\n",
              "      <td>MD</td>\n",
              "      <td>1506</td>\n",
              "      <td>39.426625</td>\n",
              "      <td>40.337254</td>\n",
              "      <td>3</td>\n",
              "      <td>2.318770</td>\n",
              "      <td>9.674</td>\n",
              "      <td>1</td>\n",
              "      <td>1073</td>\n",
              "      <td>0.182</td>\n",
              "      <td>0.512</td>\n",
              "      <td>160</td>\n",
              "    </tr>\n",
              "  </tbody>\n",
              "</table>\n",
              "</div>"
            ],
            "text/plain": [
              "  Area Type  id.1   CCTT_min     CCD_km  ...  Pop_Ha  GS_dkm  WBdkm  Prices\n",
              "0        MD   744  40.036887  38.160618  ...     218   0.145  0.150     115\n",
              "1        MD   736  38.158431  36.488280  ...     305   0.090  0.249     120\n",
              "2        MD  1606  38.981977  39.886531  ...     991   0.146  0.298     140\n",
              "3        MD  1460  35.231935  34.325897  ...     402   0.121  0.111     145\n",
              "4        MD  1506  39.426625  40.337254  ...    1073   0.182  0.512     160\n",
              "\n",
              "[5 rows x 12 columns]"
            ]
          },
          "metadata": {
            "tags": []
          },
          "execution_count": 10
        }
      ]
    },
    {
      "cell_type": "code",
      "metadata": {
        "colab": {
          "base_uri": "https://localhost:8080/",
          "height": 363
        },
        "id": "5zePzX3fcrvZ",
        "outputId": "fb263c3d-ef15-4e42-8afb-9e4ecf33dd46"
      },
      "source": [
        "test.corr()"
      ],
      "execution_count": 11,
      "outputs": [
        {
          "output_type": "execute_result",
          "data": {
            "text/html": [
              "<div>\n",
              "<style scoped>\n",
              "    .dataframe tbody tr th:only-of-type {\n",
              "        vertical-align: middle;\n",
              "    }\n",
              "\n",
              "    .dataframe tbody tr th {\n",
              "        vertical-align: top;\n",
              "    }\n",
              "\n",
              "    .dataframe thead th {\n",
              "        text-align: right;\n",
              "    }\n",
              "</style>\n",
              "<table border=\"1\" class=\"dataframe\">\n",
              "  <thead>\n",
              "    <tr style=\"text-align: right;\">\n",
              "      <th></th>\n",
              "      <th>id.1</th>\n",
              "      <th>CCTT_min</th>\n",
              "      <th>CCD_km</th>\n",
              "      <th>TF</th>\n",
              "      <th>TTSC_min</th>\n",
              "      <th>MR_dKm</th>\n",
              "      <th>KG_Si</th>\n",
              "      <th>Pop_Ha</th>\n",
              "      <th>GS_dkm</th>\n",
              "      <th>WBdkm</th>\n",
              "      <th>Prices</th>\n",
              "    </tr>\n",
              "  </thead>\n",
              "  <tbody>\n",
              "    <tr>\n",
              "      <th>id.1</th>\n",
              "      <td>1.000000</td>\n",
              "      <td>0.135026</td>\n",
              "      <td>0.128511</td>\n",
              "      <td>-0.232273</td>\n",
              "      <td>0.079730</td>\n",
              "      <td>0.067096</td>\n",
              "      <td>-0.112829</td>\n",
              "      <td>0.088780</td>\n",
              "      <td>0.083367</td>\n",
              "      <td>0.132916</td>\n",
              "      <td>-0.199323</td>\n",
              "    </tr>\n",
              "    <tr>\n",
              "      <th>CCTT_min</th>\n",
              "      <td>0.135026</td>\n",
              "      <td>1.000000</td>\n",
              "      <td>0.936876</td>\n",
              "      <td>-0.356868</td>\n",
              "      <td>-0.386586</td>\n",
              "      <td>0.306174</td>\n",
              "      <td>-0.655407</td>\n",
              "      <td>-0.335347</td>\n",
              "      <td>0.038100</td>\n",
              "      <td>-0.105447</td>\n",
              "      <td>-0.787382</td>\n",
              "    </tr>\n",
              "    <tr>\n",
              "      <th>CCD_km</th>\n",
              "      <td>0.128511</td>\n",
              "      <td>0.936876</td>\n",
              "      <td>1.000000</td>\n",
              "      <td>-0.299726</td>\n",
              "      <td>-0.280664</td>\n",
              "      <td>0.282560</td>\n",
              "      <td>-0.557059</td>\n",
              "      <td>-0.326778</td>\n",
              "      <td>0.027149</td>\n",
              "      <td>-0.112756</td>\n",
              "      <td>-0.717692</td>\n",
              "    </tr>\n",
              "    <tr>\n",
              "      <th>TF</th>\n",
              "      <td>-0.232273</td>\n",
              "      <td>-0.356868</td>\n",
              "      <td>-0.299726</td>\n",
              "      <td>1.000000</td>\n",
              "      <td>0.188934</td>\n",
              "      <td>-0.108950</td>\n",
              "      <td>0.397290</td>\n",
              "      <td>0.105571</td>\n",
              "      <td>-0.045685</td>\n",
              "      <td>-0.052241</td>\n",
              "      <td>0.444902</td>\n",
              "    </tr>\n",
              "    <tr>\n",
              "      <th>TTSC_min</th>\n",
              "      <td>0.079730</td>\n",
              "      <td>-0.386586</td>\n",
              "      <td>-0.280664</td>\n",
              "      <td>0.188934</td>\n",
              "      <td>1.000000</td>\n",
              "      <td>-0.038718</td>\n",
              "      <td>0.263866</td>\n",
              "      <td>0.125251</td>\n",
              "      <td>0.000006</td>\n",
              "      <td>0.029893</td>\n",
              "      <td>0.262762</td>\n",
              "    </tr>\n",
              "    <tr>\n",
              "      <th>MR_dKm</th>\n",
              "      <td>0.067096</td>\n",
              "      <td>0.306174</td>\n",
              "      <td>0.282560</td>\n",
              "      <td>-0.108950</td>\n",
              "      <td>-0.038718</td>\n",
              "      <td>1.000000</td>\n",
              "      <td>-0.166270</td>\n",
              "      <td>-0.108734</td>\n",
              "      <td>0.025218</td>\n",
              "      <td>0.071642</td>\n",
              "      <td>-0.231163</td>\n",
              "    </tr>\n",
              "    <tr>\n",
              "      <th>KG_Si</th>\n",
              "      <td>-0.112829</td>\n",
              "      <td>-0.655407</td>\n",
              "      <td>-0.557059</td>\n",
              "      <td>0.397290</td>\n",
              "      <td>0.263866</td>\n",
              "      <td>-0.166270</td>\n",
              "      <td>1.000000</td>\n",
              "      <td>0.353852</td>\n",
              "      <td>0.080898</td>\n",
              "      <td>-0.007715</td>\n",
              "      <td>0.662360</td>\n",
              "    </tr>\n",
              "    <tr>\n",
              "      <th>Pop_Ha</th>\n",
              "      <td>0.088780</td>\n",
              "      <td>-0.335347</td>\n",
              "      <td>-0.326778</td>\n",
              "      <td>0.105571</td>\n",
              "      <td>0.125251</td>\n",
              "      <td>-0.108734</td>\n",
              "      <td>0.353852</td>\n",
              "      <td>1.000000</td>\n",
              "      <td>0.052981</td>\n",
              "      <td>0.155495</td>\n",
              "      <td>0.238495</td>\n",
              "    </tr>\n",
              "    <tr>\n",
              "      <th>GS_dkm</th>\n",
              "      <td>0.083367</td>\n",
              "      <td>0.038100</td>\n",
              "      <td>0.027149</td>\n",
              "      <td>-0.045685</td>\n",
              "      <td>0.000006</td>\n",
              "      <td>0.025218</td>\n",
              "      <td>0.080898</td>\n",
              "      <td>0.052981</td>\n",
              "      <td>1.000000</td>\n",
              "      <td>0.125551</td>\n",
              "      <td>-0.020268</td>\n",
              "    </tr>\n",
              "    <tr>\n",
              "      <th>WBdkm</th>\n",
              "      <td>0.132916</td>\n",
              "      <td>-0.105447</td>\n",
              "      <td>-0.112756</td>\n",
              "      <td>-0.052241</td>\n",
              "      <td>0.029893</td>\n",
              "      <td>0.071642</td>\n",
              "      <td>-0.007715</td>\n",
              "      <td>0.155495</td>\n",
              "      <td>0.125551</td>\n",
              "      <td>1.000000</td>\n",
              "      <td>0.044230</td>\n",
              "    </tr>\n",
              "    <tr>\n",
              "      <th>Prices</th>\n",
              "      <td>-0.199323</td>\n",
              "      <td>-0.787382</td>\n",
              "      <td>-0.717692</td>\n",
              "      <td>0.444902</td>\n",
              "      <td>0.262762</td>\n",
              "      <td>-0.231163</td>\n",
              "      <td>0.662360</td>\n",
              "      <td>0.238495</td>\n",
              "      <td>-0.020268</td>\n",
              "      <td>0.044230</td>\n",
              "      <td>1.000000</td>\n",
              "    </tr>\n",
              "  </tbody>\n",
              "</table>\n",
              "</div>"
            ],
            "text/plain": [
              "              id.1  CCTT_min    CCD_km  ...    GS_dkm     WBdkm    Prices\n",
              "id.1      1.000000  0.135026  0.128511  ...  0.083367  0.132916 -0.199323\n",
              "CCTT_min  0.135026  1.000000  0.936876  ...  0.038100 -0.105447 -0.787382\n",
              "CCD_km    0.128511  0.936876  1.000000  ...  0.027149 -0.112756 -0.717692\n",
              "TF       -0.232273 -0.356868 -0.299726  ... -0.045685 -0.052241  0.444902\n",
              "TTSC_min  0.079730 -0.386586 -0.280664  ...  0.000006  0.029893  0.262762\n",
              "MR_dKm    0.067096  0.306174  0.282560  ...  0.025218  0.071642 -0.231163\n",
              "KG_Si    -0.112829 -0.655407 -0.557059  ...  0.080898 -0.007715  0.662360\n",
              "Pop_Ha    0.088780 -0.335347 -0.326778  ...  0.052981  0.155495  0.238495\n",
              "GS_dkm    0.083367  0.038100  0.027149  ...  1.000000  0.125551 -0.020268\n",
              "WBdkm     0.132916 -0.105447 -0.112756  ...  0.125551  1.000000  0.044230\n",
              "Prices   -0.199323 -0.787382 -0.717692  ... -0.020268  0.044230  1.000000\n",
              "\n",
              "[11 rows x 11 columns]"
            ]
          },
          "metadata": {
            "tags": []
          },
          "execution_count": 11
        }
      ]
    },
    {
      "cell_type": "code",
      "metadata": {
        "colab": {
          "base_uri": "https://localhost:8080/"
        },
        "id": "vHej3lgFc5ue",
        "outputId": "508d388e-86ec-44ff-a3b8-4b46ef903b55"
      },
      "source": [
        "!pip install sweetviz"
      ],
      "execution_count": 12,
      "outputs": [
        {
          "output_type": "stream",
          "text": [
            "Collecting sweetviz\n",
            "\u001b[?25l  Downloading https://files.pythonhosted.org/packages/7c/30/686ea12dd291220340ad7b84c725f2f21b9ff3144d1f6cd430f01c54a898/sweetviz-2.0.6-py3-none-any.whl (15.1MB)\n",
            "\u001b[K     |████████████████████████████████| 15.1MB 296kB/s \n",
            "\u001b[?25hCollecting tqdm>=4.43.0\n",
            "\u001b[?25l  Downloading https://files.pythonhosted.org/packages/b3/db/dcda019790a8d989b8b0e7290f1c651a0aaef10bbe6af00032155e04858d/tqdm-4.56.2-py2.py3-none-any.whl (72kB)\n",
            "\u001b[K     |████████████████████████████████| 81kB 5.9MB/s \n",
            "\u001b[?25hRequirement already satisfied: importlib-resources>=1.2.0 in /usr/local/lib/python3.6/dist-packages (from sweetviz) (5.1.0)\n",
            "Requirement already satisfied: jinja2>=2.11.1 in /usr/local/lib/python3.6/dist-packages (from sweetviz) (2.11.3)\n",
            "Requirement already satisfied: scipy>=1.3.2 in /usr/local/lib/python3.6/dist-packages (from sweetviz) (1.4.1)\n",
            "Requirement already satisfied: pandas!=1.0.0,!=1.0.1,!=1.0.2,>=0.25.3 in /usr/local/lib/python3.6/dist-packages (from sweetviz) (1.1.5)\n",
            "Requirement already satisfied: numpy>=1.16.0 in /usr/local/lib/python3.6/dist-packages (from sweetviz) (1.19.5)\n",
            "Requirement already satisfied: matplotlib>=3.1.3 in /usr/local/lib/python3.6/dist-packages (from sweetviz) (3.2.2)\n",
            "Requirement already satisfied: zipp>=0.4; python_version < \"3.8\" in /usr/local/lib/python3.6/dist-packages (from importlib-resources>=1.2.0->sweetviz) (3.4.0)\n",
            "Requirement already satisfied: MarkupSafe>=0.23 in /usr/local/lib/python3.6/dist-packages (from jinja2>=2.11.1->sweetviz) (1.1.1)\n",
            "Requirement already satisfied: pytz>=2017.2 in /usr/local/lib/python3.6/dist-packages (from pandas!=1.0.0,!=1.0.1,!=1.0.2,>=0.25.3->sweetviz) (2018.9)\n",
            "Requirement already satisfied: python-dateutil>=2.7.3 in /usr/local/lib/python3.6/dist-packages (from pandas!=1.0.0,!=1.0.1,!=1.0.2,>=0.25.3->sweetviz) (2.8.1)\n",
            "Requirement already satisfied: cycler>=0.10 in /usr/local/lib/python3.6/dist-packages (from matplotlib>=3.1.3->sweetviz) (0.10.0)\n",
            "Requirement already satisfied: pyparsing!=2.0.4,!=2.1.2,!=2.1.6,>=2.0.1 in /usr/local/lib/python3.6/dist-packages (from matplotlib>=3.1.3->sweetviz) (2.4.7)\n",
            "Requirement already satisfied: kiwisolver>=1.0.1 in /usr/local/lib/python3.6/dist-packages (from matplotlib>=3.1.3->sweetviz) (1.3.1)\n",
            "Requirement already satisfied: six>=1.5 in /usr/local/lib/python3.6/dist-packages (from python-dateutil>=2.7.3->pandas!=1.0.0,!=1.0.1,!=1.0.2,>=0.25.3->sweetviz) (1.15.0)\n",
            "Installing collected packages: tqdm, sweetviz\n",
            "  Found existing installation: tqdm 4.41.1\n",
            "    Uninstalling tqdm-4.41.1:\n",
            "      Successfully uninstalled tqdm-4.41.1\n",
            "Successfully installed sweetviz-2.0.6 tqdm-4.56.2\n"
          ],
          "name": "stdout"
        }
      ]
    },
    {
      "cell_type": "code",
      "metadata": {
        "colab": {
          "base_uri": "https://localhost:8080/",
          "height": 66,
          "referenced_widgets": [
            "cdd707dd1dee43a09df6138100eaae02",
            "f39f97b61060419d9102f321be10a7b5",
            "d0e41611ea564896a46f503ab6d65e61",
            "541c6f81383f4634adb124401e8f3d39",
            "85ddc3dfe2dc44ff9c4c3d20380aee5d",
            "12a513e09df044bcb3d9c04d5d94805c",
            "0db4ae69788247a69ea797366cdf32c1",
            "7d9adc35bf3947a4a7f0bdc6effb616d",
            "4276fe24fe5c4b63969adf2eacd64f2f",
            "156e5773ab0e4aa9b93dd7115a3952f5",
            "cce67f2606524bfdb4559a0b2ac2b851"
          ]
        },
        "id": "pWkrorTEc_jy",
        "outputId": "e7d58fd6-9b21-49c9-e644-13eb1b5f2749"
      },
      "source": [
        "import sweetviz as sv\r\n",
        "analyze_report = sv.analyze(test)\r\n",
        "analyze_report.show_html('analyze.html', open_browser=False)"
      ],
      "execution_count": 14,
      "outputs": [
        {
          "output_type": "display_data",
          "data": {
            "application/vnd.jupyter.widget-view+json": {
              "model_id": "cdd707dd1dee43a09df6138100eaae02",
              "version_minor": 0,
              "version_major": 2
            },
            "text/plain": [
              "                                             |          | [  0%]   00:00 -> (? left)"
            ]
          },
          "metadata": {
            "tags": []
          }
        },
        {
          "output_type": "stream",
          "text": [
            "Report analyze.html was generated.\n"
          ],
          "name": "stdout"
        }
      ]
    },
    {
      "cell_type": "code",
      "metadata": {
        "id": "tHPq-am8Z9TX"
      },
      "source": [
        "del test['GS']"
      ],
      "execution_count": 5,
      "outputs": []
    },
    {
      "cell_type": "code",
      "metadata": {
        "colab": {
          "base_uri": "https://localhost:8080/",
          "height": 190
        },
        "id": "HDzNXvXmTRpg",
        "outputId": "63c509c3-c65a-4ec5-8b06-19ca4e5f8250"
      },
      "source": [
        "test.head()\r\n"
      ],
      "execution_count": 6,
      "outputs": [
        {
          "output_type": "execute_result",
          "data": {
            "text/html": [
              "<div>\n",
              "<style scoped>\n",
              "    .dataframe tbody tr th:only-of-type {\n",
              "        vertical-align: middle;\n",
              "    }\n",
              "\n",
              "    .dataframe tbody tr th {\n",
              "        vertical-align: top;\n",
              "    }\n",
              "\n",
              "    .dataframe thead th {\n",
              "        text-align: right;\n",
              "    }\n",
              "</style>\n",
              "<table border=\"1\" class=\"dataframe\">\n",
              "  <thead>\n",
              "    <tr style=\"text-align: right;\">\n",
              "      <th></th>\n",
              "      <th>Area Type</th>\n",
              "      <th>id.1</th>\n",
              "      <th>CCTT_min</th>\n",
              "      <th>CCD_km</th>\n",
              "      <th>TF</th>\n",
              "      <th>TTSC_min</th>\n",
              "      <th>MR_dKm</th>\n",
              "      <th>KG_Si</th>\n",
              "      <th>Pop_Ha</th>\n",
              "      <th>GS_dkm</th>\n",
              "      <th>Prices</th>\n",
              "    </tr>\n",
              "  </thead>\n",
              "  <tbody>\n",
              "    <tr>\n",
              "      <th>0</th>\n",
              "      <td>MD</td>\n",
              "      <td>744</td>\n",
              "      <td>40.036887</td>\n",
              "      <td>38.160618</td>\n",
              "      <td>3</td>\n",
              "      <td>11.284460</td>\n",
              "      <td>4.675</td>\n",
              "      <td>1</td>\n",
              "      <td>218</td>\n",
              "      <td>0.145</td>\n",
              "      <td>115</td>\n",
              "    </tr>\n",
              "    <tr>\n",
              "      <th>1</th>\n",
              "      <td>MD</td>\n",
              "      <td>736</td>\n",
              "      <td>38.158431</td>\n",
              "      <td>36.488280</td>\n",
              "      <td>2</td>\n",
              "      <td>11.670782</td>\n",
              "      <td>0.415</td>\n",
              "      <td>0</td>\n",
              "      <td>305</td>\n",
              "      <td>0.090</td>\n",
              "      <td>120</td>\n",
              "    </tr>\n",
              "    <tr>\n",
              "      <th>2</th>\n",
              "      <td>MD</td>\n",
              "      <td>1606</td>\n",
              "      <td>38.981977</td>\n",
              "      <td>39.886531</td>\n",
              "      <td>3</td>\n",
              "      <td>5.828134</td>\n",
              "      <td>8.973</td>\n",
              "      <td>1</td>\n",
              "      <td>991</td>\n",
              "      <td>0.146</td>\n",
              "      <td>140</td>\n",
              "    </tr>\n",
              "    <tr>\n",
              "      <th>3</th>\n",
              "      <td>MD</td>\n",
              "      <td>1460</td>\n",
              "      <td>35.231935</td>\n",
              "      <td>34.325897</td>\n",
              "      <td>2</td>\n",
              "      <td>5.836629</td>\n",
              "      <td>3.647</td>\n",
              "      <td>0</td>\n",
              "      <td>402</td>\n",
              "      <td>0.121</td>\n",
              "      <td>145</td>\n",
              "    </tr>\n",
              "    <tr>\n",
              "      <th>4</th>\n",
              "      <td>MD</td>\n",
              "      <td>1506</td>\n",
              "      <td>39.426625</td>\n",
              "      <td>40.337254</td>\n",
              "      <td>3</td>\n",
              "      <td>2.318770</td>\n",
              "      <td>9.674</td>\n",
              "      <td>1</td>\n",
              "      <td>1073</td>\n",
              "      <td>0.182</td>\n",
              "      <td>160</td>\n",
              "    </tr>\n",
              "  </tbody>\n",
              "</table>\n",
              "</div>"
            ],
            "text/plain": [
              "  Area Type  id.1   CCTT_min     CCD_km  ...  KG_Si  Pop_Ha  GS_dkm  Prices\n",
              "0        MD   744  40.036887  38.160618  ...      1     218   0.145     115\n",
              "1        MD   736  38.158431  36.488280  ...      0     305   0.090     120\n",
              "2        MD  1606  38.981977  39.886531  ...      1     991   0.146     140\n",
              "3        MD  1460  35.231935  34.325897  ...      0     402   0.121     145\n",
              "4        MD  1506  39.426625  40.337254  ...      1    1073   0.182     160\n",
              "\n",
              "[5 rows x 11 columns]"
            ]
          },
          "metadata": {
            "tags": []
          },
          "execution_count": 6
        }
      ]
    },
    {
      "cell_type": "code",
      "metadata": {
        "id": "Es5uqQIq0Vij"
      },
      "source": [
        "X = test.iloc[:, :-1].values\r\n",
        "y = test.iloc[:, -1].values\r\n"
      ],
      "execution_count": null,
      "outputs": []
    },
    {
      "cell_type": "code",
      "metadata": {
        "colab": {
          "base_uri": "https://localhost:8080/",
          "height": 196
        },
        "id": "F6Z-TfIq0WAn",
        "outputId": "f4d54ee0-c2bd-4b2b-c4fd-da03e86e03f7"
      },
      "source": [
        "test.head()"
      ],
      "execution_count": null,
      "outputs": [
        {
          "output_type": "execute_result",
          "data": {
            "text/html": [
              "<div>\n",
              "<style scoped>\n",
              "    .dataframe tbody tr th:only-of-type {\n",
              "        vertical-align: middle;\n",
              "    }\n",
              "\n",
              "    .dataframe tbody tr th {\n",
              "        vertical-align: top;\n",
              "    }\n",
              "\n",
              "    .dataframe thead th {\n",
              "        text-align: right;\n",
              "    }\n",
              "</style>\n",
              "<table border=\"1\" class=\"dataframe\">\n",
              "  <thead>\n",
              "    <tr style=\"text-align: right;\">\n",
              "      <th></th>\n",
              "      <th>id.1</th>\n",
              "      <th>CCTT_min</th>\n",
              "      <th>TF</th>\n",
              "      <th>TTSC_min</th>\n",
              "      <th>MR_dKm</th>\n",
              "      <th>KG_Si</th>\n",
              "      <th>Pop_Ha</th>\n",
              "      <th>Prices</th>\n",
              "    </tr>\n",
              "  </thead>\n",
              "  <tbody>\n",
              "    <tr>\n",
              "      <th>0</th>\n",
              "      <td>744</td>\n",
              "      <td>40.036887</td>\n",
              "      <td>3</td>\n",
              "      <td>11.284460</td>\n",
              "      <td>4.675</td>\n",
              "      <td>1</td>\n",
              "      <td>218</td>\n",
              "      <td>115</td>\n",
              "    </tr>\n",
              "    <tr>\n",
              "      <th>1</th>\n",
              "      <td>736</td>\n",
              "      <td>38.158431</td>\n",
              "      <td>2</td>\n",
              "      <td>11.670782</td>\n",
              "      <td>0.415</td>\n",
              "      <td>0</td>\n",
              "      <td>305</td>\n",
              "      <td>120</td>\n",
              "    </tr>\n",
              "    <tr>\n",
              "      <th>2</th>\n",
              "      <td>1606</td>\n",
              "      <td>38.981977</td>\n",
              "      <td>3</td>\n",
              "      <td>5.828134</td>\n",
              "      <td>8.973</td>\n",
              "      <td>1</td>\n",
              "      <td>991</td>\n",
              "      <td>140</td>\n",
              "    </tr>\n",
              "    <tr>\n",
              "      <th>3</th>\n",
              "      <td>1460</td>\n",
              "      <td>35.231935</td>\n",
              "      <td>2</td>\n",
              "      <td>5.836629</td>\n",
              "      <td>3.647</td>\n",
              "      <td>0</td>\n",
              "      <td>402</td>\n",
              "      <td>145</td>\n",
              "    </tr>\n",
              "    <tr>\n",
              "      <th>4</th>\n",
              "      <td>1506</td>\n",
              "      <td>39.426625</td>\n",
              "      <td>3</td>\n",
              "      <td>2.318770</td>\n",
              "      <td>9.674</td>\n",
              "      <td>1</td>\n",
              "      <td>1073</td>\n",
              "      <td>160</td>\n",
              "    </tr>\n",
              "  </tbody>\n",
              "</table>\n",
              "</div>"
            ],
            "text/plain": [
              "   id.1   CCTT_min  TF   TTSC_min  MR_dKm  KG_Si  Pop_Ha  Prices\n",
              "0   744  40.036887   3  11.284460   4.675      1     218     115\n",
              "1   736  38.158431   2  11.670782   0.415      0     305     120\n",
              "2  1606  38.981977   3   5.828134   8.973      1     991     140\n",
              "3  1460  35.231935   2   5.836629   3.647      0     402     145\n",
              "4  1506  39.426625   3   2.318770   9.674      1    1073     160"
            ]
          },
          "metadata": {
            "tags": []
          },
          "execution_count": 68
        }
      ]
    },
    {
      "cell_type": "code",
      "metadata": {
        "id": "x9bxYfCWaFtJ"
      },
      "source": [
        "del test['id.1']"
      ],
      "execution_count": null,
      "outputs": []
    },
    {
      "cell_type": "code",
      "metadata": {
        "id": "SJVKDyw10Vf8"
      },
      "source": [
        "X = test.iloc[:, :-1].values\r\n",
        "y = test.iloc[:, -1].values"
      ],
      "execution_count": null,
      "outputs": []
    },
    {
      "cell_type": "code",
      "metadata": {
        "colab": {
          "base_uri": "https://localhost:8080/",
          "height": 196
        },
        "id": "HrBivvIJi0Kj",
        "outputId": "8ffa11f4-112e-44bd-ea94-b153b20f4fb9"
      },
      "source": [
        "test.head()"
      ],
      "execution_count": null,
      "outputs": [
        {
          "output_type": "execute_result",
          "data": {
            "text/html": [
              "<div>\n",
              "<style scoped>\n",
              "    .dataframe tbody tr th:only-of-type {\n",
              "        vertical-align: middle;\n",
              "    }\n",
              "\n",
              "    .dataframe tbody tr th {\n",
              "        vertical-align: top;\n",
              "    }\n",
              "\n",
              "    .dataframe thead th {\n",
              "        text-align: right;\n",
              "    }\n",
              "</style>\n",
              "<table border=\"1\" class=\"dataframe\">\n",
              "  <thead>\n",
              "    <tr style=\"text-align: right;\">\n",
              "      <th></th>\n",
              "      <th>CCTT_min</th>\n",
              "      <th>TF</th>\n",
              "      <th>TTSC_min</th>\n",
              "      <th>MR_dKm</th>\n",
              "      <th>KG_Si</th>\n",
              "      <th>Pop_Ha</th>\n",
              "      <th>Prices</th>\n",
              "    </tr>\n",
              "  </thead>\n",
              "  <tbody>\n",
              "    <tr>\n",
              "      <th>0</th>\n",
              "      <td>40.036887</td>\n",
              "      <td>3</td>\n",
              "      <td>11.284460</td>\n",
              "      <td>4.675</td>\n",
              "      <td>1</td>\n",
              "      <td>218</td>\n",
              "      <td>115</td>\n",
              "    </tr>\n",
              "    <tr>\n",
              "      <th>1</th>\n",
              "      <td>38.158431</td>\n",
              "      <td>2</td>\n",
              "      <td>11.670782</td>\n",
              "      <td>0.415</td>\n",
              "      <td>0</td>\n",
              "      <td>305</td>\n",
              "      <td>120</td>\n",
              "    </tr>\n",
              "    <tr>\n",
              "      <th>2</th>\n",
              "      <td>38.981977</td>\n",
              "      <td>3</td>\n",
              "      <td>5.828134</td>\n",
              "      <td>8.973</td>\n",
              "      <td>1</td>\n",
              "      <td>991</td>\n",
              "      <td>140</td>\n",
              "    </tr>\n",
              "    <tr>\n",
              "      <th>3</th>\n",
              "      <td>35.231935</td>\n",
              "      <td>2</td>\n",
              "      <td>5.836629</td>\n",
              "      <td>3.647</td>\n",
              "      <td>0</td>\n",
              "      <td>402</td>\n",
              "      <td>145</td>\n",
              "    </tr>\n",
              "    <tr>\n",
              "      <th>4</th>\n",
              "      <td>39.426625</td>\n",
              "      <td>3</td>\n",
              "      <td>2.318770</td>\n",
              "      <td>9.674</td>\n",
              "      <td>1</td>\n",
              "      <td>1073</td>\n",
              "      <td>160</td>\n",
              "    </tr>\n",
              "  </tbody>\n",
              "</table>\n",
              "</div>"
            ],
            "text/plain": [
              "    CCTT_min  TF   TTSC_min  MR_dKm  KG_Si  Pop_Ha  Prices\n",
              "0  40.036887   3  11.284460   4.675      1     218     115\n",
              "1  38.158431   2  11.670782   0.415      0     305     120\n",
              "2  38.981977   3   5.828134   8.973      1     991     140\n",
              "3  35.231935   2   5.836629   3.647      0     402     145\n",
              "4  39.426625   3   2.318770   9.674      1    1073     160"
            ]
          },
          "metadata": {
            "tags": []
          },
          "execution_count": 159
        }
      ]
    },
    {
      "cell_type": "markdown",
      "metadata": {
        "id": "VC6omXel_Up0"
      },
      "source": [
        "### Splitting the dataset into the Training set and Test set"
      ]
    },
    {
      "cell_type": "code",
      "metadata": {
        "id": "rznv89_VY2il"
      },
      "source": [
        "from sklearn.model_selection import train_test_split\r\n",
        "X_train, X_test, y_train, y_test =train_test_split(X,y, test_size = 0.2, random_state=42)"
      ],
      "execution_count": null,
      "outputs": []
    },
    {
      "cell_type": "code",
      "metadata": {
        "id": "c3W1bm272jLe"
      },
      "source": [
        "from sklearn.preprocessing import StandardScaler\r\n",
        "sc = StandardScaler()\r\n",
        "X_train = sc.fit_transform(X_train)\r\n",
        "X_test = sc.transform(X_test)"
      ],
      "execution_count": null,
      "outputs": []
    },
    {
      "cell_type": "markdown",
      "metadata": {
        "id": "_mSLlAT9_eyI"
      },
      "source": [
        "## Part 2 - Building the ANN"
      ]
    },
    {
      "cell_type": "markdown",
      "metadata": {
        "id": "CsBULd_f_wLY"
      },
      "source": [
        "### Initializing the ANN"
      ]
    },
    {
      "cell_type": "code",
      "metadata": {
        "id": "o__SF3INmbBT"
      },
      "source": [
        "ann = tf.keras.models.Sequential()"
      ],
      "execution_count": null,
      "outputs": []
    },
    {
      "cell_type": "markdown",
      "metadata": {
        "id": "iitAFJS_ABUn"
      },
      "source": [
        "### Adding the input layer and the first hidden layer"
      ]
    },
    {
      "cell_type": "code",
      "metadata": {
        "id": "SKmlzsvOnURT"
      },
      "source": [
        "ann.add(tf.keras.layers.Dense(units=6, activation='relu'))"
      ],
      "execution_count": null,
      "outputs": []
    },
    {
      "cell_type": "code",
      "metadata": {
        "id": "tRKVG81QzV79"
      },
      "source": [
        ""
      ],
      "execution_count": null,
      "outputs": []
    },
    {
      "cell_type": "markdown",
      "metadata": {
        "id": "-lb4kK_wAKbs"
      },
      "source": [
        "### Adding the second hidden layer"
      ]
    },
    {
      "cell_type": "code",
      "metadata": {
        "id": "RNmRyftHqSc-"
      },
      "source": [
        "ann.add(tf.keras.layers.Dense(units=6, activation='relu'))"
      ],
      "execution_count": null,
      "outputs": []
    },
    {
      "cell_type": "code",
      "metadata": {
        "id": "4IhLePW0uMbV"
      },
      "source": [
        ""
      ],
      "execution_count": null,
      "outputs": []
    },
    {
      "cell_type": "code",
      "metadata": {
        "id": "A4UfRgByySeA"
      },
      "source": [
        ""
      ],
      "execution_count": null,
      "outputs": []
    },
    {
      "cell_type": "markdown",
      "metadata": {
        "id": "jwMOmKb3AdBY"
      },
      "source": [
        "### Adding the output layer"
      ]
    },
    {
      "cell_type": "code",
      "metadata": {
        "id": "JzBvv_yP30QN"
      },
      "source": [
        "ann.add(tf.keras.layers.Dense(units=1, activation='sigmoid'))"
      ],
      "execution_count": null,
      "outputs": []
    },
    {
      "cell_type": "markdown",
      "metadata": {
        "id": "fq7e4fF6A1yy"
      },
      "source": [
        "## Part 3 - Training the ANN"
      ]
    },
    {
      "cell_type": "markdown",
      "metadata": {
        "id": "qDeylAs2An25"
      },
      "source": [
        "### Compiling the ANN with Optimizer and a Loss Function"
      ]
    },
    {
      "cell_type": "code",
      "metadata": {
        "id": "N0v-TKH44Wib"
      },
      "source": [
        "ann.compile(optimizer = 'adam', loss = 'mean_', metrics = ['accuracy'])"
      ],
      "execution_count": null,
      "outputs": []
    },
    {
      "cell_type": "code",
      "metadata": {
        "id": "fVNwHIGa3E98"
      },
      "source": [
        ""
      ],
      "execution_count": null,
      "outputs": []
    },
    {
      "cell_type": "code",
      "metadata": {
        "id": "MpbUHSYczygO"
      },
      "source": [
        "X = np.asarray(X).astype('float32')"
      ],
      "execution_count": null,
      "outputs": []
    },
    {
      "cell_type": "code",
      "metadata": {
        "id": "8xAEhvrWz7G-"
      },
      "source": [
        "del test['Area Type']\r\n"
      ],
      "execution_count": null,
      "outputs": []
    },
    {
      "cell_type": "markdown",
      "metadata": {
        "id": "YjVuiybYOo7r"
      },
      "source": [
        "### Training the ANN model on the Training set"
      ]
    },
    {
      "cell_type": "code",
      "metadata": {
        "colab": {
          "base_uri": "https://localhost:8080/"
        },
        "id": "jEBizqYC6WGh",
        "outputId": "1e506b74-6ef7-4253-c8c6-b9819ff82efc"
      },
      "source": [
        "ann.fit(X_train, y_train, batch_size = 32, epochs = 100)"
      ],
      "execution_count": null,
      "outputs": [
        {
          "output_type": "stream",
          "text": [
            "Epoch 1/100\n",
            "7/7 [==============================] - 1s 2ms/step - loss: -4.4149 - accuracy: 0.0000e+00\n",
            "Epoch 2/100\n",
            "7/7 [==============================] - 0s 4ms/step - loss: -19.5881 - accuracy: 0.0000e+00\n",
            "Epoch 3/100\n",
            "7/7 [==============================] - 0s 2ms/step - loss: -38.2605 - accuracy: 0.0000e+00\n",
            "Epoch 4/100\n",
            "7/7 [==============================] - 0s 2ms/step - loss: -44.4313 - accuracy: 0.0000e+00\n",
            "Epoch 5/100\n",
            "7/7 [==============================] - 0s 2ms/step - loss: -78.5613 - accuracy: 0.0000e+00\n",
            "Epoch 6/100\n",
            "7/7 [==============================] - 0s 2ms/step - loss: -92.7791 - accuracy: 0.0000e+00\n",
            "Epoch 7/100\n",
            "7/7 [==============================] - 0s 2ms/step - loss: -107.5600 - accuracy: 0.0000e+00\n",
            "Epoch 8/100\n",
            "7/7 [==============================] - 0s 2ms/step - loss: -131.3534 - accuracy: 0.0000e+00\n",
            "Epoch 9/100\n",
            "7/7 [==============================] - 0s 2ms/step - loss: -159.4373 - accuracy: 0.0000e+00\n",
            "Epoch 10/100\n",
            "7/7 [==============================] - 0s 3ms/step - loss: -169.0227 - accuracy: 0.0000e+00\n",
            "Epoch 11/100\n",
            "7/7 [==============================] - 0s 3ms/step - loss: -191.7349 - accuracy: 0.0000e+00\n",
            "Epoch 12/100\n",
            "7/7 [==============================] - 0s 3ms/step - loss: -204.3190 - accuracy: 0.0000e+00\n",
            "Epoch 13/100\n",
            "7/7 [==============================] - 0s 3ms/step - loss: -251.5188 - accuracy: 0.0000e+00\n",
            "Epoch 14/100\n",
            "7/7 [==============================] - 0s 2ms/step - loss: -278.9039 - accuracy: 0.0000e+00\n",
            "Epoch 15/100\n",
            "7/7 [==============================] - 0s 3ms/step - loss: -315.5845 - accuracy: 0.0000e+00\n",
            "Epoch 16/100\n",
            "7/7 [==============================] - 0s 2ms/step - loss: -308.4455 - accuracy: 0.0000e+00\n",
            "Epoch 17/100\n",
            "7/7 [==============================] - 0s 3ms/step - loss: -338.7189 - accuracy: 0.0000e+00\n",
            "Epoch 18/100\n",
            "7/7 [==============================] - 0s 2ms/step - loss: -390.3448 - accuracy: 0.0000e+00\n",
            "Epoch 19/100\n",
            "7/7 [==============================] - 0s 2ms/step - loss: -445.8224 - accuracy: 0.0000e+00\n",
            "Epoch 20/100\n",
            "7/7 [==============================] - 0s 3ms/step - loss: -488.3269 - accuracy: 0.0000e+00\n",
            "Epoch 21/100\n",
            "7/7 [==============================] - 0s 2ms/step - loss: -533.0901 - accuracy: 0.0000e+00\n",
            "Epoch 22/100\n",
            "7/7 [==============================] - 0s 2ms/step - loss: -568.0562 - accuracy: 0.0000e+00\n",
            "Epoch 23/100\n",
            "7/7 [==============================] - 0s 3ms/step - loss: -655.1858 - accuracy: 0.0000e+00\n",
            "Epoch 24/100\n",
            "7/7 [==============================] - 0s 2ms/step - loss: -665.4789 - accuracy: 0.0000e+00\n",
            "Epoch 25/100\n",
            "7/7 [==============================] - 0s 3ms/step - loss: -717.1344 - accuracy: 0.0000e+00\n",
            "Epoch 26/100\n",
            "7/7 [==============================] - 0s 2ms/step - loss: -837.6300 - accuracy: 0.0000e+00\n",
            "Epoch 27/100\n",
            "7/7 [==============================] - 0s 1ms/step - loss: -833.3243 - accuracy: 0.0000e+00\n",
            "Epoch 28/100\n",
            "7/7 [==============================] - 0s 3ms/step - loss: -810.9830 - accuracy: 0.0000e+00\n",
            "Epoch 29/100\n",
            "7/7 [==============================] - 0s 2ms/step - loss: -982.8687 - accuracy: 0.0000e+00\n",
            "Epoch 30/100\n",
            "7/7 [==============================] - 0s 2ms/step - loss: -942.6514 - accuracy: 0.0000e+00\n",
            "Epoch 31/100\n",
            "7/7 [==============================] - 0s 3ms/step - loss: -1133.3323 - accuracy: 0.0000e+00\n",
            "Epoch 32/100\n",
            "7/7 [==============================] - 0s 3ms/step - loss: -1127.5164 - accuracy: 0.0000e+00\n",
            "Epoch 33/100\n",
            "7/7 [==============================] - 0s 3ms/step - loss: -1109.8005 - accuracy: 0.0000e+00\n",
            "Epoch 34/100\n",
            "7/7 [==============================] - 0s 3ms/step - loss: -1339.7644 - accuracy: 0.0000e+00\n",
            "Epoch 35/100\n",
            "7/7 [==============================] - 0s 2ms/step - loss: -1359.5111 - accuracy: 0.0000e+00\n",
            "Epoch 36/100\n",
            "7/7 [==============================] - 0s 3ms/step - loss: -1623.6462 - accuracy: 0.0000e+00\n",
            "Epoch 37/100\n",
            "7/7 [==============================] - 0s 4ms/step - loss: -1883.9585 - accuracy: 0.0000e+00\n",
            "Epoch 38/100\n",
            "7/7 [==============================] - 0s 2ms/step - loss: -1884.1621 - accuracy: 0.0000e+00\n",
            "Epoch 39/100\n",
            "7/7 [==============================] - 0s 2ms/step - loss: -2011.6194 - accuracy: 0.0000e+00\n",
            "Epoch 40/100\n",
            "7/7 [==============================] - 0s 3ms/step - loss: -2271.1480 - accuracy: 0.0000e+00\n",
            "Epoch 41/100\n",
            "7/7 [==============================] - 0s 2ms/step - loss: -2323.1736 - accuracy: 0.0000e+00\n",
            "Epoch 42/100\n",
            "7/7 [==============================] - 0s 3ms/step - loss: -2397.6202 - accuracy: 0.0000e+00\n",
            "Epoch 43/100\n",
            "7/7 [==============================] - 0s 3ms/step - loss: -2716.5213 - accuracy: 0.0000e+00\n",
            "Epoch 44/100\n",
            "7/7 [==============================] - 0s 2ms/step - loss: -2707.2138 - accuracy: 0.0000e+00\n",
            "Epoch 45/100\n",
            "7/7 [==============================] - 0s 2ms/step - loss: -3004.3052 - accuracy: 0.0000e+00\n",
            "Epoch 46/100\n",
            "7/7 [==============================] - 0s 2ms/step - loss: -3270.5079 - accuracy: 0.0000e+00\n",
            "Epoch 47/100\n",
            "7/7 [==============================] - 0s 2ms/step - loss: -3432.9741 - accuracy: 0.0000e+00\n",
            "Epoch 48/100\n",
            "7/7 [==============================] - 0s 2ms/step - loss: -3255.8861 - accuracy: 0.0000e+00\n",
            "Epoch 49/100\n",
            "7/7 [==============================] - 0s 2ms/step - loss: -3666.0835 - accuracy: 0.0000e+00\n",
            "Epoch 50/100\n",
            "7/7 [==============================] - 0s 4ms/step - loss: -4100.3682 - accuracy: 0.0000e+00\n",
            "Epoch 51/100\n",
            "7/7 [==============================] - 0s 2ms/step - loss: -4163.4431 - accuracy: 0.0000e+00\n",
            "Epoch 52/100\n",
            "7/7 [==============================] - 0s 2ms/step - loss: -4350.7054 - accuracy: 0.0000e+00\n",
            "Epoch 53/100\n",
            "7/7 [==============================] - 0s 2ms/step - loss: -5188.7997 - accuracy: 0.0000e+00\n",
            "Epoch 54/100\n",
            "7/7 [==============================] - 0s 2ms/step - loss: -4997.4387 - accuracy: 0.0000e+00\n",
            "Epoch 55/100\n",
            "7/7 [==============================] - 0s 2ms/step - loss: -4929.9631 - accuracy: 0.0000e+00\n",
            "Epoch 56/100\n",
            "7/7 [==============================] - 0s 2ms/step - loss: -5255.8284 - accuracy: 0.0000e+00\n",
            "Epoch 57/100\n",
            "7/7 [==============================] - 0s 2ms/step - loss: -6002.9307 - accuracy: 0.0000e+00\n",
            "Epoch 58/100\n",
            "7/7 [==============================] - 0s 3ms/step - loss: -6135.8632 - accuracy: 0.0000e+00\n",
            "Epoch 59/100\n",
            "7/7 [==============================] - 0s 2ms/step - loss: -7123.9567 - accuracy: 0.0000e+00\n",
            "Epoch 60/100\n",
            "7/7 [==============================] - 0s 3ms/step - loss: -7186.8204 - accuracy: 0.0000e+00\n",
            "Epoch 61/100\n",
            "7/7 [==============================] - 0s 2ms/step - loss: -6772.7037 - accuracy: 0.0000e+00\n",
            "Epoch 62/100\n",
            "7/7 [==============================] - 0s 2ms/step - loss: -6706.3628 - accuracy: 0.0000e+00\n",
            "Epoch 63/100\n",
            "7/7 [==============================] - 0s 2ms/step - loss: -7353.4621 - accuracy: 0.0000e+00\n",
            "Epoch 64/100\n",
            "7/7 [==============================] - 0s 2ms/step - loss: -8060.1527 - accuracy: 0.0000e+00\n",
            "Epoch 65/100\n",
            "7/7 [==============================] - 0s 3ms/step - loss: -10636.5903 - accuracy: 0.0000e+00\n",
            "Epoch 66/100\n",
            "7/7 [==============================] - 0s 2ms/step - loss: -8514.2698 - accuracy: 0.0000e+00\n",
            "Epoch 67/100\n",
            "7/7 [==============================] - 0s 3ms/step - loss: -9126.4861 - accuracy: 0.0000e+00\n",
            "Epoch 68/100\n",
            "7/7 [==============================] - 0s 3ms/step - loss: -9155.0045 - accuracy: 0.0000e+00\n",
            "Epoch 69/100\n",
            "7/7 [==============================] - 0s 4ms/step - loss: -11645.4258 - accuracy: 0.0000e+00\n",
            "Epoch 70/100\n",
            "7/7 [==============================] - 0s 3ms/step - loss: -12581.7856 - accuracy: 0.0000e+00\n",
            "Epoch 71/100\n",
            "7/7 [==============================] - 0s 2ms/step - loss: -12552.5563 - accuracy: 0.0000e+00\n",
            "Epoch 72/100\n",
            "7/7 [==============================] - 0s 2ms/step - loss: -12128.8442 - accuracy: 0.0000e+00\n",
            "Epoch 73/100\n",
            "7/7 [==============================] - 0s 2ms/step - loss: -12604.2129 - accuracy: 0.0000e+00\n",
            "Epoch 74/100\n",
            "7/7 [==============================] - 0s 3ms/step - loss: -14442.3082 - accuracy: 0.0000e+00\n",
            "Epoch 75/100\n",
            "7/7 [==============================] - 0s 2ms/step - loss: -14561.0171 - accuracy: 0.0000e+00\n",
            "Epoch 76/100\n",
            "7/7 [==============================] - 0s 2ms/step - loss: -14150.6892 - accuracy: 0.0000e+00\n",
            "Epoch 77/100\n",
            "7/7 [==============================] - 0s 2ms/step - loss: -14518.9437 - accuracy: 0.0000e+00\n",
            "Epoch 78/100\n",
            "7/7 [==============================] - 0s 3ms/step - loss: -15349.6597 - accuracy: 0.0000e+00\n",
            "Epoch 79/100\n",
            "7/7 [==============================] - 0s 3ms/step - loss: -17558.3456 - accuracy: 0.0000e+00\n",
            "Epoch 80/100\n",
            "7/7 [==============================] - 0s 3ms/step - loss: -18370.3191 - accuracy: 0.0000e+00\n",
            "Epoch 81/100\n",
            "7/7 [==============================] - 0s 3ms/step - loss: -18098.6322 - accuracy: 0.0000e+00\n",
            "Epoch 82/100\n",
            "7/7 [==============================] - 0s 2ms/step - loss: -20142.6721 - accuracy: 0.0000e+00\n",
            "Epoch 83/100\n",
            "7/7 [==============================] - 0s 2ms/step - loss: -19224.6261 - accuracy: 0.0000e+00\n",
            "Epoch 84/100\n",
            "7/7 [==============================] - 0s 2ms/step - loss: -19458.3591 - accuracy: 0.0000e+00\n",
            "Epoch 85/100\n",
            "7/7 [==============================] - 0s 2ms/step - loss: -21856.5042 - accuracy: 0.0000e+00\n",
            "Epoch 86/100\n",
            "7/7 [==============================] - 0s 2ms/step - loss: -19736.3909 - accuracy: 0.0000e+00\n",
            "Epoch 87/100\n",
            "7/7 [==============================] - 0s 3ms/step - loss: -17636.8706 - accuracy: 0.0000e+00\n",
            "Epoch 88/100\n",
            "7/7 [==============================] - 0s 2ms/step - loss: -25350.3994 - accuracy: 0.0000e+00\n",
            "Epoch 89/100\n",
            "7/7 [==============================] - 0s 4ms/step - loss: -24552.6216 - accuracy: 0.0000e+00\n",
            "Epoch 90/100\n",
            "7/7 [==============================] - 0s 3ms/step - loss: -27166.4822 - accuracy: 0.0000e+00\n",
            "Epoch 91/100\n",
            "7/7 [==============================] - 0s 2ms/step - loss: -27677.9827 - accuracy: 0.0000e+00\n",
            "Epoch 92/100\n",
            "7/7 [==============================] - 0s 2ms/step - loss: -27881.7329 - accuracy: 0.0000e+00\n",
            "Epoch 93/100\n",
            "7/7 [==============================] - 0s 2ms/step - loss: -26729.1089 - accuracy: 0.0000e+00\n",
            "Epoch 94/100\n",
            "7/7 [==============================] - 0s 3ms/step - loss: -33255.3713 - accuracy: 0.0000e+00\n",
            "Epoch 95/100\n",
            "7/7 [==============================] - 0s 3ms/step - loss: -34741.3052 - accuracy: 0.0000e+00\n",
            "Epoch 96/100\n",
            "7/7 [==============================] - 0s 3ms/step - loss: -29960.9888 - accuracy: 0.0000e+00\n",
            "Epoch 97/100\n",
            "7/7 [==============================] - 0s 2ms/step - loss: -34574.4771 - accuracy: 0.0000e+00\n",
            "Epoch 98/100\n",
            "7/7 [==============================] - 0s 2ms/step - loss: -31595.5654 - accuracy: 0.0000e+00\n",
            "Epoch 99/100\n",
            "7/7 [==============================] - 0s 2ms/step - loss: -36400.5630 - accuracy: 0.0000e+00\n",
            "Epoch 100/100\n",
            "7/7 [==============================] - 0s 3ms/step - loss: -37069.9590 - accuracy: 0.0000e+00\n"
          ],
          "name": "stdout"
        },
        {
          "output_type": "execute_result",
          "data": {
            "text/plain": [
              "<tensorflow.python.keras.callbacks.History at 0x7fc2c65648d0>"
            ]
          },
          "metadata": {
            "tags": []
          },
          "execution_count": 167
        }
      ]
    },
    {
      "cell_type": "markdown",
      "metadata": {
        "id": "0H0zKKNEBLD5"
      },
      "source": [
        "### Predicting the results of the Test set"
      ]
    },
    {
      "cell_type": "code",
      "metadata": {
        "colab": {
          "base_uri": "https://localhost:8080/"
        },
        "id": "ptSVkICX8Gyc",
        "outputId": "3194f9a9-7e22-42b7-a27d-6eb177e3d253"
      },
      "source": [
        " y_pred = ann.predict(X_test)\r\n",
        "np.set_printoptions(precision=2)\r\n",
        "print(np.concatenate((y_pred.reshape(len(y_pred),1), y_test.reshape(len(y_test),1)), 1))"
      ],
      "execution_count": null,
      "outputs": [
        {
          "output_type": "stream",
          "text": [
            "WARNING:tensorflow:6 out of the last 13 calls to <function Model.make_predict_function.<locals>.predict_function at 0x7fc2c658d730> triggered tf.function retracing. Tracing is expensive and the excessive number of tracings could be due to (1) creating @tf.function repeatedly in a loop, (2) passing tensors with different shapes, (3) passing Python objects instead of tensors. For (1), please define your @tf.function outside of the loop. For (2), @tf.function has experimental_relax_shapes=True option that relaxes argument shapes that can avoid unnecessary retracing. For (3), please refer to https://www.tensorflow.org/guide/function#controlling_retracing and https://www.tensorflow.org/api_docs/python/tf/function for  more details.\n",
            "[[1.00e+00 3.40e+02]\n",
            " [1.00e+00 1.75e+02]\n",
            " [1.00e+00 4.10e+02]\n",
            " [1.00e+00 2.05e+02]\n",
            " [1.00e+00 1.45e+02]\n",
            " [1.00e+00 6.30e+02]\n",
            " [1.00e+00 7.70e+02]\n",
            " [1.00e+00 6.50e+02]\n",
            " [1.00e+00 2.10e+02]\n",
            " [1.00e+00 4.20e+02]\n",
            " [1.00e+00 8.00e+02]\n",
            " [1.00e+00 1.62e+03]\n",
            " [1.00e+00 6.50e+02]\n",
            " [1.00e+00 8.70e+02]\n",
            " [1.00e+00 2.50e+02]\n",
            " [1.00e+00 2.90e+03]\n",
            " [1.00e+00 7.40e+02]\n",
            " [1.00e+00 2.20e+02]\n",
            " [1.00e+00 5.90e+02]\n",
            " [1.00e+00 9.50e+02]\n",
            " [1.00e+00 1.34e+03]\n",
            " [1.00e+00 4.80e+02]\n",
            " [1.00e+00 1.50e+02]\n",
            " [1.00e+00 2.50e+02]\n",
            " [1.00e+00 5.90e+02]\n",
            " [1.00e+00 6.90e+02]\n",
            " [1.00e+00 1.65e+02]\n",
            " [1.00e+00 2.10e+02]\n",
            " [1.00e+00 1.91e+03]\n",
            " [1.00e+00 1.70e+02]\n",
            " [1.00e+00 8.10e+02]\n",
            " [1.00e+00 2.60e+02]\n",
            " [1.00e+00 3.20e+02]\n",
            " [1.00e+00 1.90e+03]\n",
            " [1.00e+00 1.10e+03]\n",
            " [1.00e+00 6.00e+02]\n",
            " [1.00e+00 4.50e+02]\n",
            " [1.00e+00 7.70e+02]\n",
            " [1.00e+00 6.30e+02]\n",
            " [1.00e+00 4.80e+02]\n",
            " [1.00e+00 1.65e+02]\n",
            " [1.00e+00 4.00e+02]\n",
            " [1.00e+00 4.90e+02]\n",
            " [1.00e+00 6.60e+02]\n",
            " [1.00e+00 1.76e+03]\n",
            " [1.00e+00 2.50e+02]\n",
            " [1.00e+00 3.40e+02]\n",
            " [1.00e+00 2.50e+02]\n",
            " [1.00e+00 5.70e+02]\n",
            " [1.00e+00 4.10e+02]]\n"
          ],
          "name": "stdout"
        }
      ]
    },
    {
      "cell_type": "code",
      "metadata": {
        "id": "M6S7f2egbtLY",
        "colab": {
          "base_uri": "https://localhost:8080/"
        },
        "outputId": "5c43bf85-7941-4968-f13d-300677b99c28"
      },
      "source": [
        "y_pred"
      ],
      "execution_count": null,
      "outputs": [
        {
          "output_type": "execute_result",
          "data": {
            "text/plain": [
              "array([[ 645.51],\n",
              "       [ 228.46],\n",
              "       [ 337.52],\n",
              "       [ 189.64],\n",
              "       [ 332.53],\n",
              "       [ 508.9 ],\n",
              "       [ 728.33],\n",
              "       [ 553.89],\n",
              "       [ 100.53],\n",
              "       [ 589.6 ],\n",
              "       [ 579.6 ],\n",
              "       [1138.25],\n",
              "       [ 678.2 ],\n",
              "       [ 593.75],\n",
              "       [ 189.64],\n",
              "       [1966.86],\n",
              "       [1095.46],\n",
              "       [ 123.92],\n",
              "       [ 358.86],\n",
              "       [1697.11],\n",
              "       [ 620.96],\n",
              "       [ 183.09],\n",
              "       [ 441.49],\n",
              "       [ 189.64],\n",
              "       [ 790.76],\n",
              "       [ 622.11],\n",
              "       [ 189.64],\n",
              "       [ 189.64],\n",
              "       [ 427.19],\n",
              "       [ 306.67],\n",
              "       [ 387.01],\n",
              "       [ 168.13],\n",
              "       [ 211.5 ],\n",
              "       [ 579.51],\n",
              "       [ 913.31],\n",
              "       [ 532.4 ],\n",
              "       [ 466.69],\n",
              "       [ 657.49],\n",
              "       [ 529.71],\n",
              "       [ 975.18],\n",
              "       [ 189.64],\n",
              "       [ 311.88],\n",
              "       [ 256.98],\n",
              "       [ 866.94],\n",
              "       [2366.04],\n",
              "       [ 644.72],\n",
              "       [ 375.1 ],\n",
              "       [ 371.16],\n",
              "       [ 482.07],\n",
              "       [ 982.23]], dtype=float32)"
            ]
          },
          "metadata": {
            "tags": []
          },
          "execution_count": 142
        }
      ]
    },
    {
      "cell_type": "code",
      "metadata": {
        "colab": {
          "base_uri": "https://localhost:8080/"
        },
        "id": "yj6xgZRRkiGE",
        "outputId": "08ec4b6f-f00c-4aba-a439-55de90055a44"
      },
      "source": [
        "y_test"
      ],
      "execution_count": null,
      "outputs": [
        {
          "output_type": "execute_result",
          "data": {
            "text/plain": [
              "array([ 340,  175,  410,  205,  145,  630,  770,  650,  210,  420,  800,\n",
              "       1620,  650,  870,  250, 2900,  740,  220,  590,  950, 1340,  480,\n",
              "        150,  250,  590,  690,  165,  210, 1910,  170,  810,  260,  320,\n",
              "       1900, 1100,  600,  450,  770,  630,  480,  165,  400,  490,  660,\n",
              "       1760,  250,  340,  250,  570,  410])"
            ]
          },
          "metadata": {
            "tags": []
          },
          "execution_count": 132
        }
      ]
    },
    {
      "cell_type": "code",
      "metadata": {
        "colab": {
          "base_uri": "https://localhost:8080/",
          "height": 195
        },
        "id": "Hh4yiuwAkmmN",
        "outputId": "c8fb53d4-057f-4eac-e431-4679206e206e"
      },
      "source": [
        "import sklearn\r\n",
        "from sklearn import metrics\r\n",
        "sklearn.metrics.mean_absolute_percentage_error(y_true, y_pred)"
      ],
      "execution_count": null,
      "outputs": [
        {
          "output_type": "error",
          "ename": "AttributeError",
          "evalue": "ignored",
          "traceback": [
            "\u001b[0;31m---------------------------------------------------------------------------\u001b[0m",
            "\u001b[0;31mAttributeError\u001b[0m                            Traceback (most recent call last)",
            "\u001b[0;32m<ipython-input-42-9ae5fde4d66a>\u001b[0m in \u001b[0;36m<module>\u001b[0;34m()\u001b[0m\n\u001b[1;32m      1\u001b[0m \u001b[0;32mimport\u001b[0m \u001b[0msklearn\u001b[0m\u001b[0;34m\u001b[0m\u001b[0;34m\u001b[0m\u001b[0m\n\u001b[1;32m      2\u001b[0m \u001b[0;32mfrom\u001b[0m \u001b[0msklearn\u001b[0m \u001b[0;32mimport\u001b[0m \u001b[0mmetrics\u001b[0m\u001b[0;34m\u001b[0m\u001b[0;34m\u001b[0m\u001b[0m\n\u001b[0;32m----> 3\u001b[0;31m \u001b[0msklearn\u001b[0m\u001b[0;34m.\u001b[0m\u001b[0mmetrics\u001b[0m\u001b[0;34m.\u001b[0m\u001b[0mmean_absolute_percentage_error\u001b[0m\u001b[0;34m(\u001b[0m\u001b[0my_true\u001b[0m\u001b[0;34m,\u001b[0m \u001b[0my_pred\u001b[0m\u001b[0;34m)\u001b[0m\u001b[0;34m\u001b[0m\u001b[0;34m\u001b[0m\u001b[0m\n\u001b[0m",
            "\u001b[0;31mAttributeError\u001b[0m: module 'sklearn.metrics' has no attribute 'mean_absolute_percentage_error'"
          ]
        }
      ]
    },
    {
      "cell_type": "code",
      "metadata": {
        "colab": {
          "base_uri": "https://localhost:8080/"
        },
        "id": "yxQZ70yZekd5",
        "outputId": "605a5b81-bd69-4820-d4ca-acbf41649ab4"
      },
      "source": [
        "from sklearn import metrics\r\n",
        "print('Mean Absolute Error:', metrics.mean_absolute_error(y_test, y_pred))  \r\n",
        "print('Mean Squared Error:', metrics.mean_squared_error(y_test, y_pred))  \r\n",
        "print('Root Mean Squared Error:', np.sqrt(metrics.mean_squared_error(y_test, y_pred)))\r\n",
        "print(\"R^2 Score :          \", metrics.r2_score(y_test, y_pred))"
      ],
      "execution_count": null,
      "outputs": [
        {
          "output_type": "stream",
          "text": [
            "Mean Absolute Error: 641.3000000357628\n",
            "Mean Squared Error: 710306.9000194669\n",
            "Root Mean Squared Error: 842.7970692992868\n",
            "R^2 Score :           -1.3752809855854546\n"
          ],
          "name": "stdout"
        }
      ]
    },
    {
      "cell_type": "code",
      "metadata": {
        "colab": {
          "base_uri": "https://localhost:8080/"
        },
        "id": "cEKaymSMbudP",
        "outputId": "58f5a61b-f1c3-4bdf-f566-024da3d5acba"
      },
      "source": [
        "r2_score(y_test, y_pred)"
      ],
      "execution_count": null,
      "outputs": [
        {
          "output_type": "execute_result",
          "data": {
            "text/plain": [
              "0.38374592132037033"
            ]
          },
          "metadata": {
            "tags": []
          },
          "execution_count": 123
        }
      ]
    },
    {
      "cell_type": "code",
      "metadata": {
        "id": "9gcw6093cTIf"
      },
      "source": [
        "from sklearn.model_selection import learning_curve"
      ],
      "execution_count": null,
      "outputs": []
    },
    {
      "cell_type": "code",
      "metadata": {
        "colab": {
          "base_uri": "https://localhost:8080/",
          "height": 295
        },
        "id": "M9FjPHowcUuO",
        "outputId": "ca9f12e8-383b-4385-a08b-afb7b42bef64"
      },
      "source": [
        "import matplotlib.pyplot as plt\r\n",
        "plt.title(\"Plot of Actual vs. Predicted using NN\")\r\n",
        "plt.plot(y_test)\r\n",
        "plt.plot(y_pred, 'o')\r\n",
        "plt.xlabel(\"Predicted Prices 'o' \")\r\n",
        "plt.ylabel(\"Actual Prices\")\r\n",
        "plt.legend(['Predicted Prices', 'Actual Prices'], loc=0)\r\n",
        "plt.show()\r\n"
      ],
      "execution_count": null,
      "outputs": [
        {
          "output_type": "display_data",
          "data": {
            "image/png": "[encoded data removed]",
            "text/plain": [
              "<Figure size 432x288 with 1 Axes>"
            ]
          },
          "metadata": {
            "tags": [],
            "needs_background": "light"
          }
        }
      ]
    },
    {
      "cell_type": "code",
      "metadata": {
        "colab": {
          "base_uri": "https://localhost:8080/",
          "height": 721
        },
        "id": "O1s59z9UpjxX",
        "outputId": "60a1a4e3-ee63-4c59-a27e-b686146c15cf"
      },
      "source": [
        ""
      ],
      "execution_count": null,
      "outputs": [
        {
          "output_type": "stream",
          "text": [
            "7/7 [==============================] - 0s 1ms/step - loss: 264642.2188\n"
          ],
          "name": "stdout"
        },
        {
          "output_type": "error",
          "ename": "ValueError",
          "evalue": "ignored",
          "traceback": [
            "\u001b[0;31m---------------------------------------------------------------------------\u001b[0m",
            "\u001b[0;31mValueError\u001b[0m                                Traceback (most recent call last)",
            "\u001b[0;32m<ipython-input-88-229ab9409d23>\u001b[0m in \u001b[0;36m<module>\u001b[0;34m()\u001b[0m\n\u001b[1;32m      1\u001b[0m \u001b[0mtrain_acc\u001b[0m \u001b[0;34m=\u001b[0m \u001b[0mann\u001b[0m\u001b[0;34m.\u001b[0m\u001b[0mevaluate\u001b[0m\u001b[0;34m(\u001b[0m\u001b[0mX_train\u001b[0m\u001b[0;34m,\u001b[0m \u001b[0my_train\u001b[0m\u001b[0;34m)\u001b[0m\u001b[0;34m\u001b[0m\u001b[0;34m\u001b[0m\u001b[0m\n\u001b[0;32m----> 2\u001b[0;31m \u001b[0mtest_acc\u001b[0m \u001b[0;34m=\u001b[0m \u001b[0mann\u001b[0m\u001b[0;34m.\u001b[0m\u001b[0mevaluate\u001b[0m\u001b[0;34m(\u001b[0m\u001b[0my_test\u001b[0m\u001b[0;34m,\u001b[0m \u001b[0my_test\u001b[0m\u001b[0;34m)\u001b[0m\u001b[0;34m\u001b[0m\u001b[0;34m\u001b[0m\u001b[0m\n\u001b[0m\u001b[1;32m      3\u001b[0m \u001b[0mprint\u001b[0m\u001b[0;34m(\u001b[0m\u001b[0;34m'Train: %.3f, Test: %.3f'\u001b[0m \u001b[0;34m%\u001b[0m \u001b[0;34m(\u001b[0m\u001b[0mtrain_acc\u001b[0m\u001b[0;34m,\u001b[0m \u001b[0mtest_acc\u001b[0m\u001b[0;34m)\u001b[0m\u001b[0;34m)\u001b[0m\u001b[0;34m\u001b[0m\u001b[0;34m\u001b[0m\u001b[0m\n",
            "\u001b[0;32m/usr/local/lib/python3.6/dist-packages/tensorflow/python/keras/engine/training.py\u001b[0m in \u001b[0;36mevaluate\u001b[0;34m(self, x, y, batch_size, verbose, sample_weight, steps, callbacks, max_queue_size, workers, use_multiprocessing, return_dict)\u001b[0m\n\u001b[1;32m   1387\u001b[0m             \u001b[0;32mwith\u001b[0m \u001b[0mtrace\u001b[0m\u001b[0;34m.\u001b[0m\u001b[0mTrace\u001b[0m\u001b[0;34m(\u001b[0m\u001b[0;34m'test'\u001b[0m\u001b[0;34m,\u001b[0m \u001b[0mstep_num\u001b[0m\u001b[0;34m=\u001b[0m\u001b[0mstep\u001b[0m\u001b[0;34m,\u001b[0m \u001b[0m_r\u001b[0m\u001b[0;34m=\u001b[0m\u001b[0;36m1\u001b[0m\u001b[0;34m)\u001b[0m\u001b[0;34m:\u001b[0m\u001b[0;34m\u001b[0m\u001b[0;34m\u001b[0m\u001b[0m\n\u001b[1;32m   1388\u001b[0m               \u001b[0mcallbacks\u001b[0m\u001b[0;34m.\u001b[0m\u001b[0mon_test_batch_begin\u001b[0m\u001b[0;34m(\u001b[0m\u001b[0mstep\u001b[0m\u001b[0;34m)\u001b[0m\u001b[0;34m\u001b[0m\u001b[0;34m\u001b[0m\u001b[0m\n\u001b[0;32m-> 1389\u001b[0;31m               \u001b[0mtmp_logs\u001b[0m \u001b[0;34m=\u001b[0m \u001b[0mself\u001b[0m\u001b[0;34m.\u001b[0m\u001b[0mtest_function\u001b[0m\u001b[0;34m(\u001b[0m\u001b[0miterator\u001b[0m\u001b[0;34m)\u001b[0m\u001b[0;34m\u001b[0m\u001b[0;34m\u001b[0m\u001b[0m\n\u001b[0m\u001b[1;32m   1390\u001b[0m               \u001b[0;32mif\u001b[0m \u001b[0mdata_handler\u001b[0m\u001b[0;34m.\u001b[0m\u001b[0mshould_sync\u001b[0m\u001b[0;34m:\u001b[0m\u001b[0;34m\u001b[0m\u001b[0;34m\u001b[0m\u001b[0m\n\u001b[1;32m   1391\u001b[0m                 \u001b[0mcontext\u001b[0m\u001b[0;34m.\u001b[0m\u001b[0masync_wait\u001b[0m\u001b[0;34m(\u001b[0m\u001b[0;34m)\u001b[0m\u001b[0;34m\u001b[0m\u001b[0;34m\u001b[0m\u001b[0m\n",
            "\u001b[0;32m/usr/local/lib/python3.6/dist-packages/tensorflow/python/eager/def_function.py\u001b[0m in \u001b[0;36m__call__\u001b[0;34m(self, *args, **kwds)\u001b[0m\n\u001b[1;32m    826\u001b[0m     \u001b[0mtracing_count\u001b[0m \u001b[0;34m=\u001b[0m \u001b[0mself\u001b[0m\u001b[0;34m.\u001b[0m\u001b[0mexperimental_get_tracing_count\u001b[0m\u001b[0;34m(\u001b[0m\u001b[0;34m)\u001b[0m\u001b[0;34m\u001b[0m\u001b[0;34m\u001b[0m\u001b[0m\n\u001b[1;32m    827\u001b[0m     \u001b[0;32mwith\u001b[0m \u001b[0mtrace\u001b[0m\u001b[0;34m.\u001b[0m\u001b[0mTrace\u001b[0m\u001b[0;34m(\u001b[0m\u001b[0mself\u001b[0m\u001b[0;34m.\u001b[0m\u001b[0m_name\u001b[0m\u001b[0;34m)\u001b[0m \u001b[0;32mas\u001b[0m \u001b[0mtm\u001b[0m\u001b[0;34m:\u001b[0m\u001b[0;34m\u001b[0m\u001b[0;34m\u001b[0m\u001b[0m\n\u001b[0;32m--> 828\u001b[0;31m       \u001b[0mresult\u001b[0m \u001b[0;34m=\u001b[0m \u001b[0mself\u001b[0m\u001b[0;34m.\u001b[0m\u001b[0m_call\u001b[0m\u001b[0;34m(\u001b[0m\u001b[0;34m*\u001b[0m\u001b[0margs\u001b[0m\u001b[0;34m,\u001b[0m \u001b[0;34m**\u001b[0m\u001b[0mkwds\u001b[0m\u001b[0;34m)\u001b[0m\u001b[0;34m\u001b[0m\u001b[0;34m\u001b[0m\u001b[0m\n\u001b[0m\u001b[1;32m    829\u001b[0m       \u001b[0mcompiler\u001b[0m \u001b[0;34m=\u001b[0m \u001b[0;34m\"xla\"\u001b[0m \u001b[0;32mif\u001b[0m \u001b[0mself\u001b[0m\u001b[0;34m.\u001b[0m\u001b[0m_experimental_compile\u001b[0m \u001b[0;32melse\u001b[0m \u001b[0;34m\"nonXla\"\u001b[0m\u001b[0;34m\u001b[0m\u001b[0;34m\u001b[0m\u001b[0m\n\u001b[1;32m    830\u001b[0m       \u001b[0mnew_tracing_count\u001b[0m \u001b[0;34m=\u001b[0m \u001b[0mself\u001b[0m\u001b[0;34m.\u001b[0m\u001b[0mexperimental_get_tracing_count\u001b[0m\u001b[0;34m(\u001b[0m\u001b[0;34m)\u001b[0m\u001b[0;34m\u001b[0m\u001b[0;34m\u001b[0m\u001b[0m\n",
            "\u001b[0;32m/usr/local/lib/python3.6/dist-packages/tensorflow/python/eager/def_function.py\u001b[0m in \u001b[0;36m_call\u001b[0;34m(self, *args, **kwds)\u001b[0m\n\u001b[1;32m    860\u001b[0m       \u001b[0;31m# In this case we have not created variables on the first call. So we can\u001b[0m\u001b[0;34m\u001b[0m\u001b[0;34m\u001b[0m\u001b[0;34m\u001b[0m\u001b[0m\n\u001b[1;32m    861\u001b[0m       \u001b[0;31m# run the first trace but we should fail if variables are created.\u001b[0m\u001b[0;34m\u001b[0m\u001b[0;34m\u001b[0m\u001b[0;34m\u001b[0m\u001b[0m\n\u001b[0;32m--> 862\u001b[0;31m       \u001b[0mresults\u001b[0m \u001b[0;34m=\u001b[0m \u001b[0mself\u001b[0m\u001b[0;34m.\u001b[0m\u001b[0m_stateful_fn\u001b[0m\u001b[0;34m(\u001b[0m\u001b[0;34m*\u001b[0m\u001b[0margs\u001b[0m\u001b[0;34m,\u001b[0m \u001b[0;34m**\u001b[0m\u001b[0mkwds\u001b[0m\u001b[0;34m)\u001b[0m\u001b[0;34m\u001b[0m\u001b[0;34m\u001b[0m\u001b[0m\n\u001b[0m\u001b[1;32m    863\u001b[0m       \u001b[0;32mif\u001b[0m \u001b[0mself\u001b[0m\u001b[0;34m.\u001b[0m\u001b[0m_created_variables\u001b[0m\u001b[0;34m:\u001b[0m\u001b[0;34m\u001b[0m\u001b[0;34m\u001b[0m\u001b[0m\n\u001b[1;32m    864\u001b[0m         raise ValueError(\"Creating variables on a non-first call to a function\"\n",
            "\u001b[0;32m/usr/local/lib/python3.6/dist-packages/tensorflow/python/eager/function.py\u001b[0m in \u001b[0;36m__call__\u001b[0;34m(self, *args, **kwargs)\u001b[0m\n\u001b[1;32m   2939\u001b[0m     \u001b[0;32mwith\u001b[0m \u001b[0mself\u001b[0m\u001b[0;34m.\u001b[0m\u001b[0m_lock\u001b[0m\u001b[0;34m:\u001b[0m\u001b[0;34m\u001b[0m\u001b[0;34m\u001b[0m\u001b[0m\n\u001b[1;32m   2940\u001b[0m       (graph_function,\n\u001b[0;32m-> 2941\u001b[0;31m        filtered_flat_args) = self._maybe_define_function(args, kwargs)\n\u001b[0m\u001b[1;32m   2942\u001b[0m     return graph_function._call_flat(\n\u001b[1;32m   2943\u001b[0m         filtered_flat_args, captured_inputs=graph_function.captured_inputs)  # pylint: disable=protected-access\n",
            "\u001b[0;32m/usr/local/lib/python3.6/dist-packages/tensorflow/python/eager/function.py\u001b[0m in \u001b[0;36m_maybe_define_function\u001b[0;34m(self, args, kwargs)\u001b[0m\n\u001b[1;32m   3356\u001b[0m               call_context_key in self._function_cache.missed):\n\u001b[1;32m   3357\u001b[0m             return self._define_function_with_shape_relaxation(\n\u001b[0;32m-> 3358\u001b[0;31m                 args, kwargs, flat_args, filtered_flat_args, cache_key_context)\n\u001b[0m\u001b[1;32m   3359\u001b[0m \u001b[0;34m\u001b[0m\u001b[0m\n\u001b[1;32m   3360\u001b[0m           \u001b[0mself\u001b[0m\u001b[0;34m.\u001b[0m\u001b[0m_function_cache\u001b[0m\u001b[0;34m.\u001b[0m\u001b[0mmissed\u001b[0m\u001b[0;34m.\u001b[0m\u001b[0madd\u001b[0m\u001b[0;34m(\u001b[0m\u001b[0mcall_context_key\u001b[0m\u001b[0;34m)\u001b[0m\u001b[0;34m\u001b[0m\u001b[0;34m\u001b[0m\u001b[0m\n",
            "\u001b[0;32m/usr/local/lib/python3.6/dist-packages/tensorflow/python/eager/function.py\u001b[0m in \u001b[0;36m_define_function_with_shape_relaxation\u001b[0;34m(self, args, kwargs, flat_args, filtered_flat_args, cache_key_context)\u001b[0m\n\u001b[1;32m   3278\u001b[0m \u001b[0;34m\u001b[0m\u001b[0m\n\u001b[1;32m   3279\u001b[0m     graph_function = self._create_graph_function(\n\u001b[0;32m-> 3280\u001b[0;31m         args, kwargs, override_flat_arg_shapes=relaxed_arg_shapes)\n\u001b[0m\u001b[1;32m   3281\u001b[0m     \u001b[0mself\u001b[0m\u001b[0;34m.\u001b[0m\u001b[0m_function_cache\u001b[0m\u001b[0;34m.\u001b[0m\u001b[0marg_relaxed\u001b[0m\u001b[0;34m[\u001b[0m\u001b[0mrank_only_cache_key\u001b[0m\u001b[0;34m]\u001b[0m \u001b[0;34m=\u001b[0m \u001b[0mgraph_function\u001b[0m\u001b[0;34m\u001b[0m\u001b[0;34m\u001b[0m\u001b[0m\n\u001b[1;32m   3282\u001b[0m \u001b[0;34m\u001b[0m\u001b[0m\n",
            "\u001b[0;32m/usr/local/lib/python3.6/dist-packages/tensorflow/python/eager/function.py\u001b[0m in \u001b[0;36m_create_graph_function\u001b[0;34m(self, args, kwargs, override_flat_arg_shapes)\u001b[0m\n\u001b[1;32m   3204\u001b[0m             \u001b[0marg_names\u001b[0m\u001b[0;34m=\u001b[0m\u001b[0marg_names\u001b[0m\u001b[0;34m,\u001b[0m\u001b[0;34m\u001b[0m\u001b[0;34m\u001b[0m\u001b[0m\n\u001b[1;32m   3205\u001b[0m             \u001b[0moverride_flat_arg_shapes\u001b[0m\u001b[0;34m=\u001b[0m\u001b[0moverride_flat_arg_shapes\u001b[0m\u001b[0;34m,\u001b[0m\u001b[0;34m\u001b[0m\u001b[0;34m\u001b[0m\u001b[0m\n\u001b[0;32m-> 3206\u001b[0;31m             capture_by_value=self._capture_by_value),\n\u001b[0m\u001b[1;32m   3207\u001b[0m         \u001b[0mself\u001b[0m\u001b[0;34m.\u001b[0m\u001b[0m_function_attributes\u001b[0m\u001b[0;34m,\u001b[0m\u001b[0;34m\u001b[0m\u001b[0;34m\u001b[0m\u001b[0m\n\u001b[1;32m   3208\u001b[0m         \u001b[0mfunction_spec\u001b[0m\u001b[0;34m=\u001b[0m\u001b[0mself\u001b[0m\u001b[0;34m.\u001b[0m\u001b[0mfunction_spec\u001b[0m\u001b[0;34m,\u001b[0m\u001b[0;34m\u001b[0m\u001b[0;34m\u001b[0m\u001b[0m\n",
            "\u001b[0;32m/usr/local/lib/python3.6/dist-packages/tensorflow/python/framework/func_graph.py\u001b[0m in \u001b[0;36mfunc_graph_from_py_func\u001b[0;34m(name, python_func, args, kwargs, signature, func_graph, autograph, autograph_options, add_control_dependencies, arg_names, op_return_value, collections, capture_by_value, override_flat_arg_shapes)\u001b[0m\n\u001b[1;32m    988\u001b[0m         \u001b[0m_\u001b[0m\u001b[0;34m,\u001b[0m \u001b[0moriginal_func\u001b[0m \u001b[0;34m=\u001b[0m \u001b[0mtf_decorator\u001b[0m\u001b[0;34m.\u001b[0m\u001b[0munwrap\u001b[0m\u001b[0;34m(\u001b[0m\u001b[0mpython_func\u001b[0m\u001b[0;34m)\u001b[0m\u001b[0;34m\u001b[0m\u001b[0;34m\u001b[0m\u001b[0m\n\u001b[1;32m    989\u001b[0m \u001b[0;34m\u001b[0m\u001b[0m\n\u001b[0;32m--> 990\u001b[0;31m       \u001b[0mfunc_outputs\u001b[0m \u001b[0;34m=\u001b[0m \u001b[0mpython_func\u001b[0m\u001b[0;34m(\u001b[0m\u001b[0;34m*\u001b[0m\u001b[0mfunc_args\u001b[0m\u001b[0;34m,\u001b[0m \u001b[0;34m**\u001b[0m\u001b[0mfunc_kwargs\u001b[0m\u001b[0;34m)\u001b[0m\u001b[0;34m\u001b[0m\u001b[0;34m\u001b[0m\u001b[0m\n\u001b[0m\u001b[1;32m    991\u001b[0m \u001b[0;34m\u001b[0m\u001b[0m\n\u001b[1;32m    992\u001b[0m       \u001b[0;31m# invariant: `func_outputs` contains only Tensors, CompositeTensors,\u001b[0m\u001b[0;34m\u001b[0m\u001b[0;34m\u001b[0m\u001b[0;34m\u001b[0m\u001b[0m\n",
            "\u001b[0;32m/usr/local/lib/python3.6/dist-packages/tensorflow/python/eager/def_function.py\u001b[0m in \u001b[0;36mwrapped_fn\u001b[0;34m(*args, **kwds)\u001b[0m\n\u001b[1;32m    632\u001b[0m             \u001b[0mxla_context\u001b[0m\u001b[0;34m.\u001b[0m\u001b[0mExit\u001b[0m\u001b[0;34m(\u001b[0m\u001b[0;34m)\u001b[0m\u001b[0;34m\u001b[0m\u001b[0;34m\u001b[0m\u001b[0m\n\u001b[1;32m    633\u001b[0m         \u001b[0;32melse\u001b[0m\u001b[0;34m:\u001b[0m\u001b[0;34m\u001b[0m\u001b[0;34m\u001b[0m\u001b[0m\n\u001b[0;32m--> 634\u001b[0;31m           \u001b[0mout\u001b[0m \u001b[0;34m=\u001b[0m \u001b[0mweak_wrapped_fn\u001b[0m\u001b[0;34m(\u001b[0m\u001b[0;34m)\u001b[0m\u001b[0;34m.\u001b[0m\u001b[0m__wrapped__\u001b[0m\u001b[0;34m(\u001b[0m\u001b[0;34m*\u001b[0m\u001b[0margs\u001b[0m\u001b[0;34m,\u001b[0m \u001b[0;34m**\u001b[0m\u001b[0mkwds\u001b[0m\u001b[0;34m)\u001b[0m\u001b[0;34m\u001b[0m\u001b[0;34m\u001b[0m\u001b[0m\n\u001b[0m\u001b[1;32m    635\u001b[0m         \u001b[0;32mreturn\u001b[0m \u001b[0mout\u001b[0m\u001b[0;34m\u001b[0m\u001b[0;34m\u001b[0m\u001b[0m\n\u001b[1;32m    636\u001b[0m \u001b[0;34m\u001b[0m\u001b[0m\n",
            "\u001b[0;32m/usr/local/lib/python3.6/dist-packages/tensorflow/python/framework/func_graph.py\u001b[0m in \u001b[0;36mwrapper\u001b[0;34m(*args, **kwargs)\u001b[0m\n\u001b[1;32m    975\u001b[0m           \u001b[0;32mexcept\u001b[0m \u001b[0mException\u001b[0m \u001b[0;32mas\u001b[0m \u001b[0me\u001b[0m\u001b[0;34m:\u001b[0m  \u001b[0;31m# pylint:disable=broad-except\u001b[0m\u001b[0;34m\u001b[0m\u001b[0;34m\u001b[0m\u001b[0m\n\u001b[1;32m    976\u001b[0m             \u001b[0;32mif\u001b[0m \u001b[0mhasattr\u001b[0m\u001b[0;34m(\u001b[0m\u001b[0me\u001b[0m\u001b[0;34m,\u001b[0m \u001b[0;34m\"ag_error_metadata\"\u001b[0m\u001b[0;34m)\u001b[0m\u001b[0;34m:\u001b[0m\u001b[0;34m\u001b[0m\u001b[0;34m\u001b[0m\u001b[0m\n\u001b[0;32m--> 977\u001b[0;31m               \u001b[0;32mraise\u001b[0m \u001b[0me\u001b[0m\u001b[0;34m.\u001b[0m\u001b[0mag_error_metadata\u001b[0m\u001b[0;34m.\u001b[0m\u001b[0mto_exception\u001b[0m\u001b[0;34m(\u001b[0m\u001b[0me\u001b[0m\u001b[0;34m)\u001b[0m\u001b[0;34m\u001b[0m\u001b[0;34m\u001b[0m\u001b[0m\n\u001b[0m\u001b[1;32m    978\u001b[0m             \u001b[0;32melse\u001b[0m\u001b[0;34m:\u001b[0m\u001b[0;34m\u001b[0m\u001b[0;34m\u001b[0m\u001b[0m\n\u001b[1;32m    979\u001b[0m               \u001b[0;32mraise\u001b[0m\u001b[0;34m\u001b[0m\u001b[0;34m\u001b[0m\u001b[0m\n",
            "\u001b[0;31mValueError\u001b[0m: in user code:\n\n    /usr/local/lib/python3.6/dist-packages/tensorflow/python/keras/engine/training.py:1233 test_function  *\n        return step_function(self, iterator)\n    /usr/local/lib/python3.6/dist-packages/tensorflow/python/keras/engine/training.py:1224 step_function  **\n        outputs = model.distribute_strategy.run(run_step, args=(data,))\n    /usr/local/lib/python3.6/dist-packages/tensorflow/python/distribute/distribute_lib.py:1259 run\n        return self._extended.call_for_each_replica(fn, args=args, kwargs=kwargs)\n    /usr/local/lib/python3.6/dist-packages/tensorflow/python/distribute/distribute_lib.py:2730 call_for_each_replica\n        return self._call_for_each_replica(fn, args, kwargs)\n    /usr/local/lib/python3.6/dist-packages/tensorflow/python/distribute/distribute_lib.py:3417 _call_for_each_replica\n        return fn(*args, **kwargs)\n    /usr/local/lib/python3.6/dist-packages/tensorflow/python/keras/engine/training.py:1217 run_step  **\n        outputs = model.test_step(data)\n    /usr/local/lib/python3.6/dist-packages/tensorflow/python/keras/engine/training.py:1183 test_step\n        y_pred = self(x, training=False)\n    /usr/local/lib/python3.6/dist-packages/tensorflow/python/keras/engine/base_layer.py:998 __call__\n        input_spec.assert_input_compatibility(self.input_spec, inputs, self.name)\n    /usr/local/lib/python3.6/dist-packages/tensorflow/python/keras/engine/input_spec.py:259 assert_input_compatibility\n        ' but received input with shape ' + display_shape(x.shape))\n\n    ValueError: Input 0 of layer sequential_2 is incompatible with the layer: expected axis -1 of input shape to have value 6 but received input with shape (None, 1)\n"
          ]
        }
      ]
    },
    {
      "cell_type": "code",
      "metadata": {
        "id": "OxJuObSyo_52"
      },
      "source": [
        "pyplot.plot(history.history['accuracy'], label='train')\r\n",
        "pyplot.plot(history.history['val_accuracy'], label='test')\r\n",
        "pyplot.legend()\r\n",
        "pyplot.show()"
      ],
      "execution_count": null,
      "outputs": []
    },
    {
      "cell_type": "code",
      "metadata": {
        "id": "6wnL3ANMj_lK"
      },
      "source": [
        "\r\n",
        "import pandas as pd\r\n",
        "\r\n",
        "from keras.models import Sequential\r\n",
        "from keras.layers import Dense\r\n",
        "from keras.wrappers.scikit_learn import KerasRegressor\r\n",
        "from sklearn.model_selection import cross_val_score\r\n",
        "from sklearn.model_selection import KFold\r\n",
        "from sklearn.preprocessing import StandardScaler\r\n",
        "from sklearn.pipeline import Pipeline"
      ],
      "execution_count": null,
      "outputs": []
    },
    {
      "cell_type": "code",
      "metadata": {
        "id": "Zb9rQmEht6Er"
      },
      "source": [
        "df1 = pd.read_excel(\"te1.xlsx\", header=0)\r\n",
        "dt = df1.values\r\n",
        "# split into input (X) and output (Y) variables\r\n",
        "X = test.iloc[:, :-1].values\r\n",
        "y = test.iloc[:, -1].values"
      ],
      "execution_count": null,
      "outputs": []
    },
    {
      "cell_type": "code",
      "metadata": {
        "id": "UpPG3TjvulaP"
      },
      "source": [
        "# define base model\r\n",
        "def baseline_model():\r\n",
        "\t# create model\r\n",
        "\tmodel = Sequential()\r\n",
        "\tmodel.add(Dense(13, input_dim=13, kernel_initializer='normal', activation='relu'))\r\n",
        "\tmodel.add(Dense(1, kernel_initializer='normal'))\r\n",
        "\t# Compile model\r\n",
        "\tmodel.compile(loss='mean_squared_error', optimizer='adam')\r\n",
        "\treturn model"
      ],
      "execution_count": null,
      "outputs": []
    },
    {
      "cell_type": "code",
      "metadata": {
        "id": "PKaFY-26upII"
      },
      "source": [
        "def evaluate(self, inputs, outputs):\r\n",
        "        keras.backend.clear_session()\r\n",
        "\r\n",
        "        X = Input(self.X_train[0].shape)\r\n",
        "        co.forward({inputs['in']: X})\r\n",
        "        logits = outputs['out'].val\r\n",
        "        probs = Activation('softmax')(logits)\r\n",
        "\r\n",
        "        model = Model(inputs=[inputs['in'].val], outputs=[probs])\r\n",
        "        model.compile(optimizer=Adam(lr=self.learning_rate),\r\n",
        "                      loss='sparse_categorical_crossentropy',\r\n",
        "                      metrics=['accuracy'])\r\n",
        "        model.summary()\r\n",
        "        history = model.fit(self.X_train,\r\n",
        "                            self.y_train,\r\n",
        "                            batch_size=self.batch_size,\r\n",
        "                            epochs=self.num_training_epochs,\r\n",
        "                            validation_data=(self.X_val, self.y_val))\r\n",
        "        results = {'validation_accuracy': history.history['val_accuracy'][-1]}\r\n",
        "        return results "
      ],
      "execution_count": null,
      "outputs": []
    },
    {
      "cell_type": "code",
      "metadata": {
        "colab": {
          "base_uri": "https://localhost:8080/",
          "height": 748
        },
        "id": "MoEL_ZRfvdjz",
        "outputId": "8f0c131f-267d-4c71-abba-d3478aa2dea5"
      },
      "source": [
        "from numpy import array\r\n",
        "from keras.models import Sequential\r\n",
        "from keras.layers import Dense\r\n",
        "from matplotlib import pyplot\r\n",
        "# prepare sequence\r\n",
        "df1 = pd.read_excel(\"te1.xlsx\", header=0)\r\n",
        "dt = df1.values\r\n",
        "# split into input (X) and output (Y) variables\r\n",
        "X = test.iloc[:, :-1].values\r\n",
        "y = test.iloc[:, -1].values\r\n",
        "\r\n",
        "# create model\r\n",
        "model = Sequential()\r\n",
        "model.add(Dense(2, input_dim=1))\r\n",
        "model.add(Dense(1))\r\n",
        "model.compile(loss='mse', optimizer='adam', metrics=['mse', 'mae', 'mape', 'cosine'])\r\n",
        "# train model\r\n",
        "history = model.fit(X, y, epochs=500, batch_size=len(X), verbose=2)\r\n",
        "# plot metrics\r\n",
        "pyplot.plot(history.history['mean_squared_error'])\r\n",
        "pyplot.plot(history.history['mean_absolute_error'])\r\n",
        "pyplot.plot(history.history['mean_absolute_percentage_error'])\r\n",
        "pyplot.plot(history.history['cosine_proximity'])\r\n",
        "pyplot.show()"
      ],
      "execution_count": null,
      "outputs": [
        {
          "output_type": "stream",
          "text": [
            "Epoch 1/500\n"
          ],
          "name": "stdout"
        },
        {
          "output_type": "error",
          "ename": "ValueError",
          "evalue": "ignored",
          "traceback": [
            "\u001b[0;31m---------------------------------------------------------------------------\u001b[0m",
            "\u001b[0;31mValueError\u001b[0m                                Traceback (most recent call last)",
            "\u001b[0;32m<ipython-input-102-28409e0653b3>\u001b[0m in \u001b[0;36m<module>\u001b[0;34m()\u001b[0m\n\u001b[1;32m     16\u001b[0m \u001b[0mmodel\u001b[0m\u001b[0;34m.\u001b[0m\u001b[0mcompile\u001b[0m\u001b[0;34m(\u001b[0m\u001b[0mloss\u001b[0m\u001b[0;34m=\u001b[0m\u001b[0;34m'mse'\u001b[0m\u001b[0;34m,\u001b[0m \u001b[0moptimizer\u001b[0m\u001b[0;34m=\u001b[0m\u001b[0;34m'adam'\u001b[0m\u001b[0;34m,\u001b[0m \u001b[0mmetrics\u001b[0m\u001b[0;34m=\u001b[0m\u001b[0;34m[\u001b[0m\u001b[0;34m'mse'\u001b[0m\u001b[0;34m,\u001b[0m \u001b[0;34m'mae'\u001b[0m\u001b[0;34m,\u001b[0m \u001b[0;34m'mape'\u001b[0m\u001b[0;34m,\u001b[0m \u001b[0;34m'cosine'\u001b[0m\u001b[0;34m]\u001b[0m\u001b[0;34m)\u001b[0m\u001b[0;34m\u001b[0m\u001b[0;34m\u001b[0m\u001b[0m\n\u001b[1;32m     17\u001b[0m \u001b[0;31m# train model\u001b[0m\u001b[0;34m\u001b[0m\u001b[0;34m\u001b[0m\u001b[0;34m\u001b[0m\u001b[0m\n\u001b[0;32m---> 18\u001b[0;31m \u001b[0mhistory\u001b[0m \u001b[0;34m=\u001b[0m \u001b[0mmodel\u001b[0m\u001b[0;34m.\u001b[0m\u001b[0mfit\u001b[0m\u001b[0;34m(\u001b[0m\u001b[0mX\u001b[0m\u001b[0;34m,\u001b[0m \u001b[0my\u001b[0m\u001b[0;34m,\u001b[0m \u001b[0mepochs\u001b[0m\u001b[0;34m=\u001b[0m\u001b[0;36m500\u001b[0m\u001b[0;34m,\u001b[0m \u001b[0mbatch_size\u001b[0m\u001b[0;34m=\u001b[0m\u001b[0mlen\u001b[0m\u001b[0;34m(\u001b[0m\u001b[0mX\u001b[0m\u001b[0;34m)\u001b[0m\u001b[0;34m,\u001b[0m \u001b[0mverbose\u001b[0m\u001b[0;34m=\u001b[0m\u001b[0;36m2\u001b[0m\u001b[0;34m)\u001b[0m\u001b[0;34m\u001b[0m\u001b[0;34m\u001b[0m\u001b[0m\n\u001b[0m\u001b[1;32m     19\u001b[0m \u001b[0;31m# plot metrics\u001b[0m\u001b[0;34m\u001b[0m\u001b[0;34m\u001b[0m\u001b[0;34m\u001b[0m\u001b[0m\n\u001b[1;32m     20\u001b[0m \u001b[0mpyplot\u001b[0m\u001b[0;34m.\u001b[0m\u001b[0mplot\u001b[0m\u001b[0;34m(\u001b[0m\u001b[0mhistory\u001b[0m\u001b[0;34m.\u001b[0m\u001b[0mhistory\u001b[0m\u001b[0;34m[\u001b[0m\u001b[0;34m'mean_squared_error'\u001b[0m\u001b[0;34m]\u001b[0m\u001b[0;34m)\u001b[0m\u001b[0;34m\u001b[0m\u001b[0;34m\u001b[0m\u001b[0m\n",
            "\u001b[0;32m/usr/local/lib/python3.6/dist-packages/tensorflow/python/keras/engine/training.py\u001b[0m in \u001b[0;36mfit\u001b[0;34m(self, x, y, batch_size, epochs, verbose, callbacks, validation_split, validation_data, shuffle, class_weight, sample_weight, initial_epoch, steps_per_epoch, validation_steps, validation_batch_size, validation_freq, max_queue_size, workers, use_multiprocessing)\u001b[0m\n\u001b[1;32m   1098\u001b[0m                 _r=1):\n\u001b[1;32m   1099\u001b[0m               \u001b[0mcallbacks\u001b[0m\u001b[0;34m.\u001b[0m\u001b[0mon_train_batch_begin\u001b[0m\u001b[0;34m(\u001b[0m\u001b[0mstep\u001b[0m\u001b[0;34m)\u001b[0m\u001b[0;34m\u001b[0m\u001b[0;34m\u001b[0m\u001b[0m\n\u001b[0;32m-> 1100\u001b[0;31m               \u001b[0mtmp_logs\u001b[0m \u001b[0;34m=\u001b[0m \u001b[0mself\u001b[0m\u001b[0;34m.\u001b[0m\u001b[0mtrain_function\u001b[0m\u001b[0;34m(\u001b[0m\u001b[0miterator\u001b[0m\u001b[0;34m)\u001b[0m\u001b[0;34m\u001b[0m\u001b[0;34m\u001b[0m\u001b[0m\n\u001b[0m\u001b[1;32m   1101\u001b[0m               \u001b[0;32mif\u001b[0m \u001b[0mdata_handler\u001b[0m\u001b[0;34m.\u001b[0m\u001b[0mshould_sync\u001b[0m\u001b[0;34m:\u001b[0m\u001b[0;34m\u001b[0m\u001b[0;34m\u001b[0m\u001b[0m\n\u001b[1;32m   1102\u001b[0m                 \u001b[0mcontext\u001b[0m\u001b[0;34m.\u001b[0m\u001b[0masync_wait\u001b[0m\u001b[0;34m(\u001b[0m\u001b[0;34m)\u001b[0m\u001b[0;34m\u001b[0m\u001b[0;34m\u001b[0m\u001b[0m\n",
            "\u001b[0;32m/usr/local/lib/python3.6/dist-packages/tensorflow/python/eager/def_function.py\u001b[0m in \u001b[0;36m__call__\u001b[0;34m(self, *args, **kwds)\u001b[0m\n\u001b[1;32m    826\u001b[0m     \u001b[0mtracing_count\u001b[0m \u001b[0;34m=\u001b[0m \u001b[0mself\u001b[0m\u001b[0;34m.\u001b[0m\u001b[0mexperimental_get_tracing_count\u001b[0m\u001b[0;34m(\u001b[0m\u001b[0;34m)\u001b[0m\u001b[0;34m\u001b[0m\u001b[0;34m\u001b[0m\u001b[0m\n\u001b[1;32m    827\u001b[0m     \u001b[0;32mwith\u001b[0m \u001b[0mtrace\u001b[0m\u001b[0;34m.\u001b[0m\u001b[0mTrace\u001b[0m\u001b[0;34m(\u001b[0m\u001b[0mself\u001b[0m\u001b[0;34m.\u001b[0m\u001b[0m_name\u001b[0m\u001b[0;34m)\u001b[0m \u001b[0;32mas\u001b[0m \u001b[0mtm\u001b[0m\u001b[0;34m:\u001b[0m\u001b[0;34m\u001b[0m\u001b[0;34m\u001b[0m\u001b[0m\n\u001b[0;32m--> 828\u001b[0;31m       \u001b[0mresult\u001b[0m \u001b[0;34m=\u001b[0m \u001b[0mself\u001b[0m\u001b[0;34m.\u001b[0m\u001b[0m_call\u001b[0m\u001b[0;34m(\u001b[0m\u001b[0;34m*\u001b[0m\u001b[0margs\u001b[0m\u001b[0;34m,\u001b[0m \u001b[0;34m**\u001b[0m\u001b[0mkwds\u001b[0m\u001b[0;34m)\u001b[0m\u001b[0;34m\u001b[0m\u001b[0;34m\u001b[0m\u001b[0m\n\u001b[0m\u001b[1;32m    829\u001b[0m       \u001b[0mcompiler\u001b[0m \u001b[0;34m=\u001b[0m \u001b[0;34m\"xla\"\u001b[0m \u001b[0;32mif\u001b[0m \u001b[0mself\u001b[0m\u001b[0;34m.\u001b[0m\u001b[0m_experimental_compile\u001b[0m \u001b[0;32melse\u001b[0m \u001b[0;34m\"nonXla\"\u001b[0m\u001b[0;34m\u001b[0m\u001b[0;34m\u001b[0m\u001b[0m\n\u001b[1;32m    830\u001b[0m       \u001b[0mnew_tracing_count\u001b[0m \u001b[0;34m=\u001b[0m \u001b[0mself\u001b[0m\u001b[0;34m.\u001b[0m\u001b[0mexperimental_get_tracing_count\u001b[0m\u001b[0;34m(\u001b[0m\u001b[0;34m)\u001b[0m\u001b[0;34m\u001b[0m\u001b[0;34m\u001b[0m\u001b[0m\n",
            "\u001b[0;32m/usr/local/lib/python3.6/dist-packages/tensorflow/python/eager/def_function.py\u001b[0m in \u001b[0;36m_call\u001b[0;34m(self, *args, **kwds)\u001b[0m\n\u001b[1;32m    869\u001b[0m       \u001b[0;31m# This is the first call of __call__, so we have to initialize.\u001b[0m\u001b[0;34m\u001b[0m\u001b[0;34m\u001b[0m\u001b[0;34m\u001b[0m\u001b[0m\n\u001b[1;32m    870\u001b[0m       \u001b[0minitializers\u001b[0m \u001b[0;34m=\u001b[0m \u001b[0;34m[\u001b[0m\u001b[0;34m]\u001b[0m\u001b[0;34m\u001b[0m\u001b[0;34m\u001b[0m\u001b[0m\n\u001b[0;32m--> 871\u001b[0;31m       \u001b[0mself\u001b[0m\u001b[0;34m.\u001b[0m\u001b[0m_initialize\u001b[0m\u001b[0;34m(\u001b[0m\u001b[0margs\u001b[0m\u001b[0;34m,\u001b[0m \u001b[0mkwds\u001b[0m\u001b[0;34m,\u001b[0m \u001b[0madd_initializers_to\u001b[0m\u001b[0;34m=\u001b[0m\u001b[0minitializers\u001b[0m\u001b[0;34m)\u001b[0m\u001b[0;34m\u001b[0m\u001b[0;34m\u001b[0m\u001b[0m\n\u001b[0m\u001b[1;32m    872\u001b[0m     \u001b[0;32mfinally\u001b[0m\u001b[0;34m:\u001b[0m\u001b[0;34m\u001b[0m\u001b[0;34m\u001b[0m\u001b[0m\n\u001b[1;32m    873\u001b[0m       \u001b[0;31m# At this point we know that the initialization is complete (or less\u001b[0m\u001b[0;34m\u001b[0m\u001b[0;34m\u001b[0m\u001b[0;34m\u001b[0m\u001b[0m\n",
            "\u001b[0;32m/usr/local/lib/python3.6/dist-packages/tensorflow/python/eager/def_function.py\u001b[0m in \u001b[0;36m_initialize\u001b[0;34m(self, args, kwds, add_initializers_to)\u001b[0m\n\u001b[1;32m    724\u001b[0m     self._concrete_stateful_fn = (\n\u001b[1;32m    725\u001b[0m         self._stateful_fn._get_concrete_function_internal_garbage_collected(  # pylint: disable=protected-access\n\u001b[0;32m--> 726\u001b[0;31m             *args, **kwds))\n\u001b[0m\u001b[1;32m    727\u001b[0m \u001b[0;34m\u001b[0m\u001b[0m\n\u001b[1;32m    728\u001b[0m     \u001b[0;32mdef\u001b[0m \u001b[0minvalid_creator_scope\u001b[0m\u001b[0;34m(\u001b[0m\u001b[0;34m*\u001b[0m\u001b[0munused_args\u001b[0m\u001b[0;34m,\u001b[0m \u001b[0;34m**\u001b[0m\u001b[0munused_kwds\u001b[0m\u001b[0;34m)\u001b[0m\u001b[0;34m:\u001b[0m\u001b[0;34m\u001b[0m\u001b[0;34m\u001b[0m\u001b[0m\n",
            "\u001b[0;32m/usr/local/lib/python3.6/dist-packages/tensorflow/python/eager/function.py\u001b[0m in \u001b[0;36m_get_concrete_function_internal_garbage_collected\u001b[0;34m(self, *args, **kwargs)\u001b[0m\n\u001b[1;32m   2967\u001b[0m       \u001b[0margs\u001b[0m\u001b[0;34m,\u001b[0m \u001b[0mkwargs\u001b[0m \u001b[0;34m=\u001b[0m \u001b[0;32mNone\u001b[0m\u001b[0;34m,\u001b[0m \u001b[0;32mNone\u001b[0m\u001b[0;34m\u001b[0m\u001b[0;34m\u001b[0m\u001b[0m\n\u001b[1;32m   2968\u001b[0m     \u001b[0;32mwith\u001b[0m \u001b[0mself\u001b[0m\u001b[0;34m.\u001b[0m\u001b[0m_lock\u001b[0m\u001b[0;34m:\u001b[0m\u001b[0;34m\u001b[0m\u001b[0;34m\u001b[0m\u001b[0m\n\u001b[0;32m-> 2969\u001b[0;31m       \u001b[0mgraph_function\u001b[0m\u001b[0;34m,\u001b[0m \u001b[0m_\u001b[0m \u001b[0;34m=\u001b[0m \u001b[0mself\u001b[0m\u001b[0;34m.\u001b[0m\u001b[0m_maybe_define_function\u001b[0m\u001b[0;34m(\u001b[0m\u001b[0margs\u001b[0m\u001b[0;34m,\u001b[0m \u001b[0mkwargs\u001b[0m\u001b[0;34m)\u001b[0m\u001b[0;34m\u001b[0m\u001b[0;34m\u001b[0m\u001b[0m\n\u001b[0m\u001b[1;32m   2970\u001b[0m     \u001b[0;32mreturn\u001b[0m \u001b[0mgraph_function\u001b[0m\u001b[0;34m\u001b[0m\u001b[0;34m\u001b[0m\u001b[0m\n\u001b[1;32m   2971\u001b[0m \u001b[0;34m\u001b[0m\u001b[0m\n",
            "\u001b[0;32m/usr/local/lib/python3.6/dist-packages/tensorflow/python/eager/function.py\u001b[0m in \u001b[0;36m_maybe_define_function\u001b[0;34m(self, args, kwargs)\u001b[0m\n\u001b[1;32m   3359\u001b[0m \u001b[0;34m\u001b[0m\u001b[0m\n\u001b[1;32m   3360\u001b[0m           \u001b[0mself\u001b[0m\u001b[0;34m.\u001b[0m\u001b[0m_function_cache\u001b[0m\u001b[0;34m.\u001b[0m\u001b[0mmissed\u001b[0m\u001b[0;34m.\u001b[0m\u001b[0madd\u001b[0m\u001b[0;34m(\u001b[0m\u001b[0mcall_context_key\u001b[0m\u001b[0;34m)\u001b[0m\u001b[0;34m\u001b[0m\u001b[0;34m\u001b[0m\u001b[0m\n\u001b[0;32m-> 3361\u001b[0;31m           \u001b[0mgraph_function\u001b[0m \u001b[0;34m=\u001b[0m \u001b[0mself\u001b[0m\u001b[0;34m.\u001b[0m\u001b[0m_create_graph_function\u001b[0m\u001b[0;34m(\u001b[0m\u001b[0margs\u001b[0m\u001b[0;34m,\u001b[0m \u001b[0mkwargs\u001b[0m\u001b[0;34m)\u001b[0m\u001b[0;34m\u001b[0m\u001b[0;34m\u001b[0m\u001b[0m\n\u001b[0m\u001b[1;32m   3362\u001b[0m           \u001b[0mself\u001b[0m\u001b[0;34m.\u001b[0m\u001b[0m_function_cache\u001b[0m\u001b[0;34m.\u001b[0m\u001b[0mprimary\u001b[0m\u001b[0;34m[\u001b[0m\u001b[0mcache_key\u001b[0m\u001b[0;34m]\u001b[0m \u001b[0;34m=\u001b[0m \u001b[0mgraph_function\u001b[0m\u001b[0;34m\u001b[0m\u001b[0;34m\u001b[0m\u001b[0m\n\u001b[1;32m   3363\u001b[0m \u001b[0;34m\u001b[0m\u001b[0m\n",
            "\u001b[0;32m/usr/local/lib/python3.6/dist-packages/tensorflow/python/eager/function.py\u001b[0m in \u001b[0;36m_create_graph_function\u001b[0;34m(self, args, kwargs, override_flat_arg_shapes)\u001b[0m\n\u001b[1;32m   3204\u001b[0m             \u001b[0marg_names\u001b[0m\u001b[0;34m=\u001b[0m\u001b[0marg_names\u001b[0m\u001b[0;34m,\u001b[0m\u001b[0;34m\u001b[0m\u001b[0;34m\u001b[0m\u001b[0m\n\u001b[1;32m   3205\u001b[0m             \u001b[0moverride_flat_arg_shapes\u001b[0m\u001b[0;34m=\u001b[0m\u001b[0moverride_flat_arg_shapes\u001b[0m\u001b[0;34m,\u001b[0m\u001b[0;34m\u001b[0m\u001b[0;34m\u001b[0m\u001b[0m\n\u001b[0;32m-> 3206\u001b[0;31m             capture_by_value=self._capture_by_value),\n\u001b[0m\u001b[1;32m   3207\u001b[0m         \u001b[0mself\u001b[0m\u001b[0;34m.\u001b[0m\u001b[0m_function_attributes\u001b[0m\u001b[0;34m,\u001b[0m\u001b[0;34m\u001b[0m\u001b[0;34m\u001b[0m\u001b[0m\n\u001b[1;32m   3208\u001b[0m         \u001b[0mfunction_spec\u001b[0m\u001b[0;34m=\u001b[0m\u001b[0mself\u001b[0m\u001b[0;34m.\u001b[0m\u001b[0mfunction_spec\u001b[0m\u001b[0;34m,\u001b[0m\u001b[0;34m\u001b[0m\u001b[0;34m\u001b[0m\u001b[0m\n",
            "\u001b[0;32m/usr/local/lib/python3.6/dist-packages/tensorflow/python/framework/func_graph.py\u001b[0m in \u001b[0;36mfunc_graph_from_py_func\u001b[0;34m(name, python_func, args, kwargs, signature, func_graph, autograph, autograph_options, add_control_dependencies, arg_names, op_return_value, collections, capture_by_value, override_flat_arg_shapes)\u001b[0m\n\u001b[1;32m    988\u001b[0m         \u001b[0m_\u001b[0m\u001b[0;34m,\u001b[0m \u001b[0moriginal_func\u001b[0m \u001b[0;34m=\u001b[0m \u001b[0mtf_decorator\u001b[0m\u001b[0;34m.\u001b[0m\u001b[0munwrap\u001b[0m\u001b[0;34m(\u001b[0m\u001b[0mpython_func\u001b[0m\u001b[0;34m)\u001b[0m\u001b[0;34m\u001b[0m\u001b[0;34m\u001b[0m\u001b[0m\n\u001b[1;32m    989\u001b[0m \u001b[0;34m\u001b[0m\u001b[0m\n\u001b[0;32m--> 990\u001b[0;31m       \u001b[0mfunc_outputs\u001b[0m \u001b[0;34m=\u001b[0m \u001b[0mpython_func\u001b[0m\u001b[0;34m(\u001b[0m\u001b[0;34m*\u001b[0m\u001b[0mfunc_args\u001b[0m\u001b[0;34m,\u001b[0m \u001b[0;34m**\u001b[0m\u001b[0mfunc_kwargs\u001b[0m\u001b[0;34m)\u001b[0m\u001b[0;34m\u001b[0m\u001b[0;34m\u001b[0m\u001b[0m\n\u001b[0m\u001b[1;32m    991\u001b[0m \u001b[0;34m\u001b[0m\u001b[0m\n\u001b[1;32m    992\u001b[0m       \u001b[0;31m# invariant: `func_outputs` contains only Tensors, CompositeTensors,\u001b[0m\u001b[0;34m\u001b[0m\u001b[0;34m\u001b[0m\u001b[0;34m\u001b[0m\u001b[0m\n",
            "\u001b[0;32m/usr/local/lib/python3.6/dist-packages/tensorflow/python/eager/def_function.py\u001b[0m in \u001b[0;36mwrapped_fn\u001b[0;34m(*args, **kwds)\u001b[0m\n\u001b[1;32m    632\u001b[0m             \u001b[0mxla_context\u001b[0m\u001b[0;34m.\u001b[0m\u001b[0mExit\u001b[0m\u001b[0;34m(\u001b[0m\u001b[0;34m)\u001b[0m\u001b[0;34m\u001b[0m\u001b[0;34m\u001b[0m\u001b[0m\n\u001b[1;32m    633\u001b[0m         \u001b[0;32melse\u001b[0m\u001b[0;34m:\u001b[0m\u001b[0;34m\u001b[0m\u001b[0;34m\u001b[0m\u001b[0m\n\u001b[0;32m--> 634\u001b[0;31m           \u001b[0mout\u001b[0m \u001b[0;34m=\u001b[0m \u001b[0mweak_wrapped_fn\u001b[0m\u001b[0;34m(\u001b[0m\u001b[0;34m)\u001b[0m\u001b[0;34m.\u001b[0m\u001b[0m__wrapped__\u001b[0m\u001b[0;34m(\u001b[0m\u001b[0;34m*\u001b[0m\u001b[0margs\u001b[0m\u001b[0;34m,\u001b[0m \u001b[0;34m**\u001b[0m\u001b[0mkwds\u001b[0m\u001b[0;34m)\u001b[0m\u001b[0;34m\u001b[0m\u001b[0;34m\u001b[0m\u001b[0m\n\u001b[0m\u001b[1;32m    635\u001b[0m         \u001b[0;32mreturn\u001b[0m \u001b[0mout\u001b[0m\u001b[0;34m\u001b[0m\u001b[0;34m\u001b[0m\u001b[0m\n\u001b[1;32m    636\u001b[0m \u001b[0;34m\u001b[0m\u001b[0m\n",
            "\u001b[0;32m/usr/local/lib/python3.6/dist-packages/tensorflow/python/framework/func_graph.py\u001b[0m in \u001b[0;36mwrapper\u001b[0;34m(*args, **kwargs)\u001b[0m\n\u001b[1;32m    975\u001b[0m           \u001b[0;32mexcept\u001b[0m \u001b[0mException\u001b[0m \u001b[0;32mas\u001b[0m \u001b[0me\u001b[0m\u001b[0;34m:\u001b[0m  \u001b[0;31m# pylint:disable=broad-except\u001b[0m\u001b[0;34m\u001b[0m\u001b[0;34m\u001b[0m\u001b[0m\n\u001b[1;32m    976\u001b[0m             \u001b[0;32mif\u001b[0m \u001b[0mhasattr\u001b[0m\u001b[0;34m(\u001b[0m\u001b[0me\u001b[0m\u001b[0;34m,\u001b[0m \u001b[0;34m\"ag_error_metadata\"\u001b[0m\u001b[0;34m)\u001b[0m\u001b[0;34m:\u001b[0m\u001b[0;34m\u001b[0m\u001b[0;34m\u001b[0m\u001b[0m\n\u001b[0;32m--> 977\u001b[0;31m               \u001b[0;32mraise\u001b[0m \u001b[0me\u001b[0m\u001b[0;34m.\u001b[0m\u001b[0mag_error_metadata\u001b[0m\u001b[0;34m.\u001b[0m\u001b[0mto_exception\u001b[0m\u001b[0;34m(\u001b[0m\u001b[0me\u001b[0m\u001b[0;34m)\u001b[0m\u001b[0;34m\u001b[0m\u001b[0;34m\u001b[0m\u001b[0m\n\u001b[0m\u001b[1;32m    978\u001b[0m             \u001b[0;32melse\u001b[0m\u001b[0;34m:\u001b[0m\u001b[0;34m\u001b[0m\u001b[0;34m\u001b[0m\u001b[0m\n\u001b[1;32m    979\u001b[0m               \u001b[0;32mraise\u001b[0m\u001b[0;34m\u001b[0m\u001b[0;34m\u001b[0m\u001b[0m\n",
            "\u001b[0;31mValueError\u001b[0m: in user code:\n\n    /usr/local/lib/python3.6/dist-packages/tensorflow/python/keras/engine/training.py:805 train_function  *\n        return step_function(self, iterator)\n    /usr/local/lib/python3.6/dist-packages/tensorflow/python/keras/engine/training.py:795 step_function  **\n        outputs = model.distribute_strategy.run(run_step, args=(data,))\n    /usr/local/lib/python3.6/dist-packages/tensorflow/python/distribute/distribute_lib.py:1259 run\n        return self._extended.call_for_each_replica(fn, args=args, kwargs=kwargs)\n    /usr/local/lib/python3.6/dist-packages/tensorflow/python/distribute/distribute_lib.py:2730 call_for_each_replica\n        return self._call_for_each_replica(fn, args, kwargs)\n    /usr/local/lib/python3.6/dist-packages/tensorflow/python/distribute/distribute_lib.py:3417 _call_for_each_replica\n        return fn(*args, **kwargs)\n    /usr/local/lib/python3.6/dist-packages/tensorflow/python/keras/engine/training.py:788 run_step  **\n        outputs = model.train_step(data)\n    /usr/local/lib/python3.6/dist-packages/tensorflow/python/keras/engine/training.py:754 train_step\n        y_pred = self(x, training=True)\n    /usr/local/lib/python3.6/dist-packages/tensorflow/python/keras/engine/base_layer.py:998 __call__\n        input_spec.assert_input_compatibility(self.input_spec, inputs, self.name)\n    /usr/local/lib/python3.6/dist-packages/tensorflow/python/keras/engine/input_spec.py:259 assert_input_compatibility\n        ' but received input with shape ' + display_shape(x.shape))\n\n    ValueError: Input 0 of layer sequential_17 is incompatible with the layer: expected axis -1 of input shape to have value 1 but received input with shape (250, 6)\n"
          ]
        }
      ]
    },
    {
      "cell_type": "code",
      "metadata": {
        "colab": {
          "base_uri": "https://localhost:8080/"
        },
        "id": "gbKRRfiZvjA3",
        "outputId": "374ca486-63ba-4bfa-cc41-d4abdb1bf6ec"
      },
      "source": [
        "r2_score(y_test, y_pred)"
      ],
      "execution_count": null,
      "outputs": [
        {
          "output_type": "execute_result",
          "data": {
            "text/plain": [
              "0.5899667070801844"
            ]
          },
          "metadata": {
            "tags": []
          },
          "execution_count": 98
        }
      ]
    }
  ]
}